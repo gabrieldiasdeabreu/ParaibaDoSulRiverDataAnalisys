{
 "cells": [
  {
   "cell_type": "code",
   "execution_count": 1,
   "metadata": {
    "slideshow": {
     "slide_type": "skip"
    }
   },
   "outputs": [],
   "source": [
    "from zipfile import ZipFile\n",
    "import pandas as pd\n",
    "import numpy as np\n",
    "import matplotlib.pyplot as plt\n"
   ]
  },
  {
   "cell_type": "code",
   "execution_count": 2,
   "metadata": {
    "slideshow": {
     "slide_type": "skip"
    }
   },
   "outputs": [
    {
     "name": "stdout",
     "output_type": "stream",
     "text": [
      "a quantidade de estações de medição é 46\n"
     ]
    }
   ],
   "source": [
    "baseDadosZipada = ZipFile('instancia/data.zip', 'r')\n",
    "infoList = baseDadosZipada.infolist()\n",
    "listaArquivos = [infoList[x].filename for x in range(len(infoList))]\n",
    "print(\"a quantidade de estações de medição é\", len(listaArquivos))"
   ]
  },
  {
   "cell_type": "markdown",
   "metadata": {
    "slideshow": {
     "slide_type": "slide"
    }
   },
   "source": [
    "# Lista de Series diferentes que temos para trabalhar, precisamos ver o que fazer\n",
    "\n",
    "## - por enquanto peguei a com maior número de anos\n",
    "\n",
    "## - podiamos pegar considerando a geografia e estudando o efeito da vazão a montante na vazão a jusante\n",
    "\n",
    "### o que é Vazão  (livro)\n",
    "https://www.google.com/url?sa=t&rct=j&q=&esrc=s&source=web&cd=28&ved=2ahUKEwjn-bjulPrgAhWwHbkGHc_aDfIQFjAbegQIDBAC&url=http%3A%2F%2Fpaginapessoal.utfpr.edu.br%2Feudesarantes%2Fdisciplinas%2Fhidrologia%2FMedicaodavazao.pdf%2Fat_download%2Ffile&usg=AOvVaw05KM00Baj2CJFJ1Cji679Q"
   ]
  },
  {
   "cell_type": "code",
   "execution_count": 3,
   "metadata": {
    "slideshow": {
     "slide_type": "skip"
    }
   },
   "outputs": [],
   "source": [
    "Bases = [ pd.read_csv(baseDadosZipada.open(listaArquivos[x])) for x in range(1, len(listaArquivos))]\n",
    "# print(Bases[0].columns)"
   ]
  },
  {
   "cell_type": "code",
   "execution_count": 4,
   "metadata": {
    "slideshow": {
     "slide_type": "skip"
    }
   },
   "outputs": [
    {
     "name": "stdout",
     "output_type": "stream",
     "text": [
      "a maior base de dados é a data/2345067_58060000.csv\n"
     ]
    }
   ],
   "source": [
    "\n",
    "# Bases[35]\n",
    "indmaiorBase = np.argmax([len(base[\"Vazao\"][(np.isreal(base[\"Vazao\"])) ^ False]) for base in Bases])+1\n",
    "print(\"a maior base de dados é a\", listaArquivos[indmaiorBase])"
   ]
  },
  {
   "cell_type": "code",
   "execution_count": 5,
   "metadata": {
    "slideshow": {
     "slide_type": "skip"
    }
   },
   "outputs": [
    {
     "name": "stdout",
     "output_type": "stream",
     "text": [
      "a maior base é data/2345067_58060000.csv\n"
     ]
    },
    {
     "data": {
      "text/html": [
       "<div>\n",
       "<style scoped>\n",
       "    .dataframe tbody tr th:only-of-type {\n",
       "        vertical-align: middle;\n",
       "    }\n",
       "\n",
       "    .dataframe tbody tr th {\n",
       "        vertical-align: top;\n",
       "    }\n",
       "\n",
       "    .dataframe thead th {\n",
       "        text-align: right;\n",
       "    }\n",
       "</style>\n",
       "<table border=\"1\" class=\"dataframe\">\n",
       "  <thead>\n",
       "    <tr style=\"text-align: right;\">\n",
       "      <th></th>\n",
       "      <th>Data</th>\n",
       "      <th>Chuva</th>\n",
       "      <th>Vazao</th>\n",
       "      <th>Ano</th>\n",
       "      <th>Mes</th>\n",
       "      <th>Dia</th>\n",
       "    </tr>\n",
       "  </thead>\n",
       "  <tbody>\n",
       "    <tr>\n",
       "      <th>0</th>\n",
       "      <td>1936-10-10</td>\n",
       "      <td>15.9</td>\n",
       "      <td>4.5060</td>\n",
       "      <td>1936</td>\n",
       "      <td>10</td>\n",
       "      <td>10</td>\n",
       "    </tr>\n",
       "    <tr>\n",
       "      <th>1</th>\n",
       "      <td>1936-10-11</td>\n",
       "      <td>6.0</td>\n",
       "      <td>9.6000</td>\n",
       "      <td>1936</td>\n",
       "      <td>10</td>\n",
       "      <td>11</td>\n",
       "    </tr>\n",
       "    <tr>\n",
       "      <th>2</th>\n",
       "      <td>1936-10-12</td>\n",
       "      <td>43.4</td>\n",
       "      <td>12.9400</td>\n",
       "      <td>1936</td>\n",
       "      <td>10</td>\n",
       "      <td>12</td>\n",
       "    </tr>\n",
       "    <tr>\n",
       "      <th>3</th>\n",
       "      <td>1936-10-13</td>\n",
       "      <td>1.2</td>\n",
       "      <td>7.1280</td>\n",
       "      <td>1936</td>\n",
       "      <td>10</td>\n",
       "      <td>13</td>\n",
       "    </tr>\n",
       "    <tr>\n",
       "      <th>4</th>\n",
       "      <td>1936-10-14</td>\n",
       "      <td>0.0</td>\n",
       "      <td>5.6400</td>\n",
       "      <td>1936</td>\n",
       "      <td>10</td>\n",
       "      <td>14</td>\n",
       "    </tr>\n",
       "    <tr>\n",
       "      <th>5</th>\n",
       "      <td>1936-10-15</td>\n",
       "      <td>0.0</td>\n",
       "      <td>4.9920</td>\n",
       "      <td>1936</td>\n",
       "      <td>10</td>\n",
       "      <td>15</td>\n",
       "    </tr>\n",
       "    <tr>\n",
       "      <th>6</th>\n",
       "      <td>1936-10-16</td>\n",
       "      <td>0.0</td>\n",
       "      <td>4.5060</td>\n",
       "      <td>1936</td>\n",
       "      <td>10</td>\n",
       "      <td>16</td>\n",
       "    </tr>\n",
       "    <tr>\n",
       "      <th>7</th>\n",
       "      <td>1936-10-17</td>\n",
       "      <td>0.0</td>\n",
       "      <td>4.1820</td>\n",
       "      <td>1936</td>\n",
       "      <td>10</td>\n",
       "      <td>17</td>\n",
       "    </tr>\n",
       "    <tr>\n",
       "      <th>8</th>\n",
       "      <td>1936-10-18</td>\n",
       "      <td>0.5</td>\n",
       "      <td>4.0200</td>\n",
       "      <td>1936</td>\n",
       "      <td>10</td>\n",
       "      <td>18</td>\n",
       "    </tr>\n",
       "    <tr>\n",
       "      <th>9</th>\n",
       "      <td>1936-10-19</td>\n",
       "      <td>0.0</td>\n",
       "      <td>4.0200</td>\n",
       "      <td>1936</td>\n",
       "      <td>10</td>\n",
       "      <td>19</td>\n",
       "    </tr>\n",
       "    <tr>\n",
       "      <th>10</th>\n",
       "      <td>1936-10-20</td>\n",
       "      <td>0.0</td>\n",
       "      <td>4.0200</td>\n",
       "      <td>1936</td>\n",
       "      <td>10</td>\n",
       "      <td>20</td>\n",
       "    </tr>\n",
       "    <tr>\n",
       "      <th>11</th>\n",
       "      <td>1936-10-21</td>\n",
       "      <td>0.0</td>\n",
       "      <td>4.0200</td>\n",
       "      <td>1936</td>\n",
       "      <td>10</td>\n",
       "      <td>21</td>\n",
       "    </tr>\n",
       "    <tr>\n",
       "      <th>12</th>\n",
       "      <td>1936-10-22</td>\n",
       "      <td>20.7</td>\n",
       "      <td>4.6680</td>\n",
       "      <td>1936</td>\n",
       "      <td>10</td>\n",
       "      <td>22</td>\n",
       "    </tr>\n",
       "    <tr>\n",
       "      <th>13</th>\n",
       "      <td>1936-10-23</td>\n",
       "      <td>7.2</td>\n",
       "      <td>5.6400</td>\n",
       "      <td>1936</td>\n",
       "      <td>10</td>\n",
       "      <td>23</td>\n",
       "    </tr>\n",
       "    <tr>\n",
       "      <th>14</th>\n",
       "      <td>1936-10-24</td>\n",
       "      <td>0.0</td>\n",
       "      <td>4.6680</td>\n",
       "      <td>1936</td>\n",
       "      <td>10</td>\n",
       "      <td>24</td>\n",
       "    </tr>\n",
       "    <tr>\n",
       "      <th>15</th>\n",
       "      <td>1936-10-25</td>\n",
       "      <td>0.0</td>\n",
       "      <td>4.0200</td>\n",
       "      <td>1936</td>\n",
       "      <td>10</td>\n",
       "      <td>25</td>\n",
       "    </tr>\n",
       "    <tr>\n",
       "      <th>16</th>\n",
       "      <td>1936-10-26</td>\n",
       "      <td>0.0</td>\n",
       "      <td>4.0200</td>\n",
       "      <td>1936</td>\n",
       "      <td>10</td>\n",
       "      <td>26</td>\n",
       "    </tr>\n",
       "    <tr>\n",
       "      <th>17</th>\n",
       "      <td>1936-10-27</td>\n",
       "      <td>3.2</td>\n",
       "      <td>4.0200</td>\n",
       "      <td>1936</td>\n",
       "      <td>10</td>\n",
       "      <td>27</td>\n",
       "    </tr>\n",
       "    <tr>\n",
       "      <th>18</th>\n",
       "      <td>1936-10-28</td>\n",
       "      <td>1.9</td>\n",
       "      <td>4.0200</td>\n",
       "      <td>1936</td>\n",
       "      <td>10</td>\n",
       "      <td>28</td>\n",
       "    </tr>\n",
       "    <tr>\n",
       "      <th>19</th>\n",
       "      <td>1936-10-29</td>\n",
       "      <td>0.0</td>\n",
       "      <td>4.0200</td>\n",
       "      <td>1936</td>\n",
       "      <td>10</td>\n",
       "      <td>29</td>\n",
       "    </tr>\n",
       "    <tr>\n",
       "      <th>20</th>\n",
       "      <td>1936-10-30</td>\n",
       "      <td>0.9</td>\n",
       "      <td>4.0200</td>\n",
       "      <td>1936</td>\n",
       "      <td>10</td>\n",
       "      <td>30</td>\n",
       "    </tr>\n",
       "    <tr>\n",
       "      <th>21</th>\n",
       "      <td>1936-10-31</td>\n",
       "      <td>7.4</td>\n",
       "      <td>4.0200</td>\n",
       "      <td>1936</td>\n",
       "      <td>10</td>\n",
       "      <td>31</td>\n",
       "    </tr>\n",
       "    <tr>\n",
       "      <th>22</th>\n",
       "      <td>1936-11-01</td>\n",
       "      <td>0.0</td>\n",
       "      <td>4.0200</td>\n",
       "      <td>1936</td>\n",
       "      <td>11</td>\n",
       "      <td>1</td>\n",
       "    </tr>\n",
       "    <tr>\n",
       "      <th>23</th>\n",
       "      <td>1936-11-02</td>\n",
       "      <td>0.0</td>\n",
       "      <td>4.0200</td>\n",
       "      <td>1936</td>\n",
       "      <td>11</td>\n",
       "      <td>2</td>\n",
       "    </tr>\n",
       "    <tr>\n",
       "      <th>24</th>\n",
       "      <td>1936-11-03</td>\n",
       "      <td>2.2</td>\n",
       "      <td>3.8860</td>\n",
       "      <td>1936</td>\n",
       "      <td>11</td>\n",
       "      <td>3</td>\n",
       "    </tr>\n",
       "    <tr>\n",
       "      <th>25</th>\n",
       "      <td>1936-11-04</td>\n",
       "      <td>3.1</td>\n",
       "      <td>4.0200</td>\n",
       "      <td>1936</td>\n",
       "      <td>11</td>\n",
       "      <td>4</td>\n",
       "    </tr>\n",
       "    <tr>\n",
       "      <th>26</th>\n",
       "      <td>1936-11-05</td>\n",
       "      <td>16.0</td>\n",
       "      <td>4.9920</td>\n",
       "      <td>1936</td>\n",
       "      <td>11</td>\n",
       "      <td>5</td>\n",
       "    </tr>\n",
       "    <tr>\n",
       "      <th>27</th>\n",
       "      <td>1936-11-06</td>\n",
       "      <td>6.8</td>\n",
       "      <td>4.6680</td>\n",
       "      <td>1936</td>\n",
       "      <td>11</td>\n",
       "      <td>6</td>\n",
       "    </tr>\n",
       "    <tr>\n",
       "      <th>28</th>\n",
       "      <td>1936-11-07</td>\n",
       "      <td>0.0</td>\n",
       "      <td>4.0200</td>\n",
       "      <td>1936</td>\n",
       "      <td>11</td>\n",
       "      <td>7</td>\n",
       "    </tr>\n",
       "    <tr>\n",
       "      <th>29</th>\n",
       "      <td>1936-11-08</td>\n",
       "      <td>0.0</td>\n",
       "      <td>3.8860</td>\n",
       "      <td>1936</td>\n",
       "      <td>11</td>\n",
       "      <td>8</td>\n",
       "    </tr>\n",
       "    <tr>\n",
       "      <th>...</th>\n",
       "      <td>...</td>\n",
       "      <td>...</td>\n",
       "      <td>...</td>\n",
       "      <td>...</td>\n",
       "      <td>...</td>\n",
       "      <td>...</td>\n",
       "    </tr>\n",
       "    <tr>\n",
       "      <th>29009</th>\n",
       "      <td>2016-06-01</td>\n",
       "      <td>0.5</td>\n",
       "      <td>5.1265</td>\n",
       "      <td>2016</td>\n",
       "      <td>6</td>\n",
       "      <td>1</td>\n",
       "    </tr>\n",
       "    <tr>\n",
       "      <th>29010</th>\n",
       "      <td>2016-06-02</td>\n",
       "      <td>14.4</td>\n",
       "      <td>6.4967</td>\n",
       "      <td>2016</td>\n",
       "      <td>6</td>\n",
       "      <td>2</td>\n",
       "    </tr>\n",
       "    <tr>\n",
       "      <th>29011</th>\n",
       "      <td>2016-06-03</td>\n",
       "      <td>1.7</td>\n",
       "      <td>5.9156</td>\n",
       "      <td>2016</td>\n",
       "      <td>6</td>\n",
       "      <td>3</td>\n",
       "    </tr>\n",
       "    <tr>\n",
       "      <th>29012</th>\n",
       "      <td>2016-06-04</td>\n",
       "      <td>9.5</td>\n",
       "      <td>5.9972</td>\n",
       "      <td>2016</td>\n",
       "      <td>6</td>\n",
       "      <td>4</td>\n",
       "    </tr>\n",
       "    <tr>\n",
       "      <th>29013</th>\n",
       "      <td>2016-06-05</td>\n",
       "      <td>50.7</td>\n",
       "      <td>21.1510</td>\n",
       "      <td>2016</td>\n",
       "      <td>6</td>\n",
       "      <td>5</td>\n",
       "    </tr>\n",
       "    <tr>\n",
       "      <th>29014</th>\n",
       "      <td>2016-06-06</td>\n",
       "      <td>29.2</td>\n",
       "      <td>15.5915</td>\n",
       "      <td>2016</td>\n",
       "      <td>6</td>\n",
       "      <td>6</td>\n",
       "    </tr>\n",
       "    <tr>\n",
       "      <th>29015</th>\n",
       "      <td>2016-06-07</td>\n",
       "      <td>66.7</td>\n",
       "      <td>30.3873</td>\n",
       "      <td>2016</td>\n",
       "      <td>6</td>\n",
       "      <td>7</td>\n",
       "    </tr>\n",
       "    <tr>\n",
       "      <th>29016</th>\n",
       "      <td>2016-06-08</td>\n",
       "      <td>5.2</td>\n",
       "      <td>13.7853</td>\n",
       "      <td>2016</td>\n",
       "      <td>6</td>\n",
       "      <td>8</td>\n",
       "    </tr>\n",
       "    <tr>\n",
       "      <th>29017</th>\n",
       "      <td>2016-06-09</td>\n",
       "      <td>0.1</td>\n",
       "      <td>9.0523</td>\n",
       "      <td>2016</td>\n",
       "      <td>6</td>\n",
       "      <td>9</td>\n",
       "    </tr>\n",
       "    <tr>\n",
       "      <th>29018</th>\n",
       "      <td>2016-06-10</td>\n",
       "      <td>0.0</td>\n",
       "      <td>7.8204</td>\n",
       "      <td>2016</td>\n",
       "      <td>6</td>\n",
       "      <td>10</td>\n",
       "    </tr>\n",
       "    <tr>\n",
       "      <th>29019</th>\n",
       "      <td>2016-06-11</td>\n",
       "      <td>0.0</td>\n",
       "      <td>7.1013</td>\n",
       "      <td>2016</td>\n",
       "      <td>6</td>\n",
       "      <td>11</td>\n",
       "    </tr>\n",
       "    <tr>\n",
       "      <th>29020</th>\n",
       "      <td>2016-06-12</td>\n",
       "      <td>0.0</td>\n",
       "      <td>6.7530</td>\n",
       "      <td>2016</td>\n",
       "      <td>6</td>\n",
       "      <td>12</td>\n",
       "    </tr>\n",
       "    <tr>\n",
       "      <th>29021</th>\n",
       "      <td>2016-06-13</td>\n",
       "      <td>0.0</td>\n",
       "      <td>6.3283</td>\n",
       "      <td>2016</td>\n",
       "      <td>6</td>\n",
       "      <td>13</td>\n",
       "    </tr>\n",
       "    <tr>\n",
       "      <th>29022</th>\n",
       "      <td>2016-06-14</td>\n",
       "      <td>0.0</td>\n",
       "      <td>6.1618</td>\n",
       "      <td>2016</td>\n",
       "      <td>6</td>\n",
       "      <td>14</td>\n",
       "    </tr>\n",
       "    <tr>\n",
       "      <th>29023</th>\n",
       "      <td>2016-06-15</td>\n",
       "      <td>0.0</td>\n",
       "      <td>6.0792</td>\n",
       "      <td>2016</td>\n",
       "      <td>6</td>\n",
       "      <td>15</td>\n",
       "    </tr>\n",
       "    <tr>\n",
       "      <th>29024</th>\n",
       "      <td>2016-06-16</td>\n",
       "      <td>0.0</td>\n",
       "      <td>5.8345</td>\n",
       "      <td>2016</td>\n",
       "      <td>6</td>\n",
       "      <td>16</td>\n",
       "    </tr>\n",
       "    <tr>\n",
       "      <th>29025</th>\n",
       "      <td>2016-06-17</td>\n",
       "      <td>0.0</td>\n",
       "      <td>5.7539</td>\n",
       "      <td>2016</td>\n",
       "      <td>6</td>\n",
       "      <td>17</td>\n",
       "    </tr>\n",
       "    <tr>\n",
       "      <th>29026</th>\n",
       "      <td>2016-06-18</td>\n",
       "      <td>0.0</td>\n",
       "      <td>5.5941</td>\n",
       "      <td>2016</td>\n",
       "      <td>6</td>\n",
       "      <td>18</td>\n",
       "    </tr>\n",
       "    <tr>\n",
       "      <th>29027</th>\n",
       "      <td>2016-06-19</td>\n",
       "      <td>0.0</td>\n",
       "      <td>5.5941</td>\n",
       "      <td>2016</td>\n",
       "      <td>6</td>\n",
       "      <td>19</td>\n",
       "    </tr>\n",
       "    <tr>\n",
       "      <th>29028</th>\n",
       "      <td>2016-06-20</td>\n",
       "      <td>0.0</td>\n",
       "      <td>5.5941</td>\n",
       "      <td>2016</td>\n",
       "      <td>6</td>\n",
       "      <td>20</td>\n",
       "    </tr>\n",
       "    <tr>\n",
       "      <th>29029</th>\n",
       "      <td>2016-06-21</td>\n",
       "      <td>2.6</td>\n",
       "      <td>5.5941</td>\n",
       "      <td>2016</td>\n",
       "      <td>6</td>\n",
       "      <td>21</td>\n",
       "    </tr>\n",
       "    <tr>\n",
       "      <th>29030</th>\n",
       "      <td>2016-06-22</td>\n",
       "      <td>2.2</td>\n",
       "      <td>5.9972</td>\n",
       "      <td>2016</td>\n",
       "      <td>6</td>\n",
       "      <td>22</td>\n",
       "    </tr>\n",
       "    <tr>\n",
       "      <th>29031</th>\n",
       "      <td>2016-06-23</td>\n",
       "      <td>0.0</td>\n",
       "      <td>5.5941</td>\n",
       "      <td>2016</td>\n",
       "      <td>6</td>\n",
       "      <td>23</td>\n",
       "    </tr>\n",
       "    <tr>\n",
       "      <th>29032</th>\n",
       "      <td>2016-06-24</td>\n",
       "      <td>0.4</td>\n",
       "      <td>5.4363</td>\n",
       "      <td>2016</td>\n",
       "      <td>6</td>\n",
       "      <td>24</td>\n",
       "    </tr>\n",
       "    <tr>\n",
       "      <th>29033</th>\n",
       "      <td>2016-06-25</td>\n",
       "      <td>0.0</td>\n",
       "      <td>5.2804</td>\n",
       "      <td>2016</td>\n",
       "      <td>6</td>\n",
       "      <td>25</td>\n",
       "    </tr>\n",
       "    <tr>\n",
       "      <th>29034</th>\n",
       "      <td>2016-06-26</td>\n",
       "      <td>0.0</td>\n",
       "      <td>5.2804</td>\n",
       "      <td>2016</td>\n",
       "      <td>6</td>\n",
       "      <td>26</td>\n",
       "    </tr>\n",
       "    <tr>\n",
       "      <th>29035</th>\n",
       "      <td>2016-06-27</td>\n",
       "      <td>0.0</td>\n",
       "      <td>5.1265</td>\n",
       "      <td>2016</td>\n",
       "      <td>6</td>\n",
       "      <td>27</td>\n",
       "    </tr>\n",
       "    <tr>\n",
       "      <th>29036</th>\n",
       "      <td>2016-06-28</td>\n",
       "      <td>0.0</td>\n",
       "      <td>5.1265</td>\n",
       "      <td>2016</td>\n",
       "      <td>6</td>\n",
       "      <td>28</td>\n",
       "    </tr>\n",
       "    <tr>\n",
       "      <th>29037</th>\n",
       "      <td>2016-06-29</td>\n",
       "      <td>0.0</td>\n",
       "      <td>5.1265</td>\n",
       "      <td>2016</td>\n",
       "      <td>6</td>\n",
       "      <td>29</td>\n",
       "    </tr>\n",
       "    <tr>\n",
       "      <th>29038</th>\n",
       "      <td>2016-06-30</td>\n",
       "      <td>0.0</td>\n",
       "      <td>5.1265</td>\n",
       "      <td>2016</td>\n",
       "      <td>6</td>\n",
       "      <td>30</td>\n",
       "    </tr>\n",
       "  </tbody>\n",
       "</table>\n",
       "<p>29039 rows × 6 columns</p>\n",
       "</div>"
      ],
      "text/plain": [
       "            Data  Chuva    Vazao   Ano  Mes  Dia\n",
       "0     1936-10-10   15.9   4.5060  1936   10   10\n",
       "1     1936-10-11    6.0   9.6000  1936   10   11\n",
       "2     1936-10-12   43.4  12.9400  1936   10   12\n",
       "3     1936-10-13    1.2   7.1280  1936   10   13\n",
       "4     1936-10-14    0.0   5.6400  1936   10   14\n",
       "5     1936-10-15    0.0   4.9920  1936   10   15\n",
       "6     1936-10-16    0.0   4.5060  1936   10   16\n",
       "7     1936-10-17    0.0   4.1820  1936   10   17\n",
       "8     1936-10-18    0.5   4.0200  1936   10   18\n",
       "9     1936-10-19    0.0   4.0200  1936   10   19\n",
       "10    1936-10-20    0.0   4.0200  1936   10   20\n",
       "11    1936-10-21    0.0   4.0200  1936   10   21\n",
       "12    1936-10-22   20.7   4.6680  1936   10   22\n",
       "13    1936-10-23    7.2   5.6400  1936   10   23\n",
       "14    1936-10-24    0.0   4.6680  1936   10   24\n",
       "15    1936-10-25    0.0   4.0200  1936   10   25\n",
       "16    1936-10-26    0.0   4.0200  1936   10   26\n",
       "17    1936-10-27    3.2   4.0200  1936   10   27\n",
       "18    1936-10-28    1.9   4.0200  1936   10   28\n",
       "19    1936-10-29    0.0   4.0200  1936   10   29\n",
       "20    1936-10-30    0.9   4.0200  1936   10   30\n",
       "21    1936-10-31    7.4   4.0200  1936   10   31\n",
       "22    1936-11-01    0.0   4.0200  1936   11    1\n",
       "23    1936-11-02    0.0   4.0200  1936   11    2\n",
       "24    1936-11-03    2.2   3.8860  1936   11    3\n",
       "25    1936-11-04    3.1   4.0200  1936   11    4\n",
       "26    1936-11-05   16.0   4.9920  1936   11    5\n",
       "27    1936-11-06    6.8   4.6680  1936   11    6\n",
       "28    1936-11-07    0.0   4.0200  1936   11    7\n",
       "29    1936-11-08    0.0   3.8860  1936   11    8\n",
       "...          ...    ...      ...   ...  ...  ...\n",
       "29009 2016-06-01    0.5   5.1265  2016    6    1\n",
       "29010 2016-06-02   14.4   6.4967  2016    6    2\n",
       "29011 2016-06-03    1.7   5.9156  2016    6    3\n",
       "29012 2016-06-04    9.5   5.9972  2016    6    4\n",
       "29013 2016-06-05   50.7  21.1510  2016    6    5\n",
       "29014 2016-06-06   29.2  15.5915  2016    6    6\n",
       "29015 2016-06-07   66.7  30.3873  2016    6    7\n",
       "29016 2016-06-08    5.2  13.7853  2016    6    8\n",
       "29017 2016-06-09    0.1   9.0523  2016    6    9\n",
       "29018 2016-06-10    0.0   7.8204  2016    6   10\n",
       "29019 2016-06-11    0.0   7.1013  2016    6   11\n",
       "29020 2016-06-12    0.0   6.7530  2016    6   12\n",
       "29021 2016-06-13    0.0   6.3283  2016    6   13\n",
       "29022 2016-06-14    0.0   6.1618  2016    6   14\n",
       "29023 2016-06-15    0.0   6.0792  2016    6   15\n",
       "29024 2016-06-16    0.0   5.8345  2016    6   16\n",
       "29025 2016-06-17    0.0   5.7539  2016    6   17\n",
       "29026 2016-06-18    0.0   5.5941  2016    6   18\n",
       "29027 2016-06-19    0.0   5.5941  2016    6   19\n",
       "29028 2016-06-20    0.0   5.5941  2016    6   20\n",
       "29029 2016-06-21    2.6   5.5941  2016    6   21\n",
       "29030 2016-06-22    2.2   5.9972  2016    6   22\n",
       "29031 2016-06-23    0.0   5.5941  2016    6   23\n",
       "29032 2016-06-24    0.4   5.4363  2016    6   24\n",
       "29033 2016-06-25    0.0   5.2804  2016    6   25\n",
       "29034 2016-06-26    0.0   5.2804  2016    6   26\n",
       "29035 2016-06-27    0.0   5.1265  2016    6   27\n",
       "29036 2016-06-28    0.0   5.1265  2016    6   28\n",
       "29037 2016-06-29    0.0   5.1265  2016    6   29\n",
       "29038 2016-06-30    0.0   5.1265  2016    6   30\n",
       "\n",
       "[29039 rows x 6 columns]"
      ]
     },
     "execution_count": 5,
     "metadata": {},
     "output_type": "execute_result"
    }
   ],
   "source": [
    "# datas = [ pd.to_datetime(y['Data'][len(y)-1]) - pd.to_datetime(y['Data'][0]) for y in Bases]\n",
    "# indmaiorBase = np.argmax(datas)\n",
    "print( 'a maior base é', listaArquivos[indmaiorBase])\n",
    "baseDados = pd.read_csv(baseDadosZipada.open(listaArquivos[indmaiorBase]))\n",
    "baseDados['Data'] = pd.to_datetime(baseDados['Data'])\n",
    "baseDados['Ano'] = [x.year for x in baseDados['Data']]\n",
    "baseDados['Mes'] = [x.month for x in baseDados['Data']]\n",
    "baseDados['Dia'] = [x.day for x in baseDados['Data']]\n",
    "baseDados\n"
   ]
  },
  {
   "cell_type": "markdown",
   "metadata": {
    "slideshow": {
     "slide_type": "slide"
    }
   },
   "source": [
    "# adicionei colunas com mes ano e dia e a estação de coleta que foi escolhida é a de \"Ponte Alta 1\" site para descobrir e verificar:\n",
    "\n",
    "http://www.snirh.gov.br/hidroweb/publico/medicoes_historicas_abas.jsf "
   ]
  },
  {
   "cell_type": "code",
   "execution_count": 6,
   "metadata": {
    "slideshow": {
     "slide_type": "slide"
    }
   },
   "outputs": [
    {
     "data": {
      "text/plain": [
       "count    29039.000000\n",
       "mean         8.338539\n",
       "std          8.345548\n",
       "min          2.230000\n",
       "25%          4.878000\n",
       "50%          6.595000\n",
       "75%          9.600000\n",
       "max        566.000000\n",
       "Name: Vazao, dtype: float64"
      ]
     },
     "execution_count": 6,
     "metadata": {},
     "output_type": "execute_result"
    }
   ],
   "source": [
    "baseDados['Vazao'].describe()"
   ]
  },
  {
   "cell_type": "code",
   "execution_count": 7,
   "metadata": {
    "slideshow": {
     "slide_type": "skip"
    }
   },
   "outputs": [],
   "source": [
    "median = np.quantile(baseDados['Vazao'], 0.5)\n",
    "distInterQuartil = np.quantile(baseDados['Vazao'], 0.75)  - np.quantile(baseDados['Vazao'], 0.25)\n",
    "max = (median + 1.5*distInterQuartil)\n",
    "min = (median - 1.5*distInterQuartil)\n",
    "noutlierAbaixo = (  baseDados['Vazao'] > min)\n",
    "\n",
    "noutlierAcima = ( baseDados['Vazao'] < max)\n",
    "# outlier = outlierAbaixo or outlierAcima\n",
    "nOutlier =  (noutlierAbaixo & noutlierAcima)"
   ]
  },
  {
   "cell_type": "code",
   "execution_count": 8,
   "metadata": {
    "slideshow": {
     "slide_type": "slide"
    }
   },
   "outputs": [
    {
     "data": {
      "image/png": "[encoded data removed]",
      "text/plain": [
       "<Figure size 432x288 with 2 Axes>"
      ]
     },
     "metadata": {
      "needs_background": "light"
     },
     "output_type": "display_data"
    }
   ],
   "source": [
    "plt.subplot(122)\n",
    "pd.DataFrame(baseDados['Vazao'][nOutlier]).boxplot()\n",
    "plt.title(\"com outliers\")\n",
    "plt.subplot(121)\n",
    "pd.DataFrame(baseDados['Vazao']).boxplot()\n",
    "plt.title(\"sem outliers\")\n",
    "plt.show()"
   ]
  },
  {
   "cell_type": "code",
   "execution_count": 9,
   "metadata": {
    "scrolled": false,
    "slideshow": {
     "slide_type": "slide"
    }
   },
   "outputs": [
    {
     "data": {
      "image/png": "[encoded data removed]",
      "text/plain": [
       "<Figure size 720x360 with 3 Axes>"
      ]
     },
     "metadata": {
      "needs_background": "light"
     },
     "output_type": "display_data"
    }
   ],
   "source": [
    "\n",
    "# print(max, min, baseDados['Vazao'][nOutlier])\n",
    "\n",
    "# base = baseDados['Vazao'][Noutlier]\n",
    "\n",
    "plt.figure(figsize=[10,5])\n",
    "\n",
    "plt.subplot(221)\n",
    "plt.hist(baseDados['Vazao'][nOutlier])\n",
    "plt.title(\"vazao sem outliers\")\n",
    "plt.ylim([0, 6000])\n",
    "plt.xlim([0, 200])\n",
    "plt.subplot(222)\n",
    "plt.hist(baseDados['Vazao'][~nOutlier])\n",
    "plt.title(\"vazao só outliers\")\n",
    "\n",
    "plt.ylim([0, 6000])\n",
    "plt.xlim([0, 200])\n",
    "plt.subplot(223)\n",
    "plt.hist(baseDados['Vazao'][nOutlier])\n",
    "plt.title(\"vazao sem outliers Fora da escala\", pad=-150)\n",
    "\n",
    "plt.show()\n"
   ]
  },
  {
   "cell_type": "code",
   "execution_count": 10,
   "metadata": {
    "slideshow": {
     "slide_type": "slide"
    }
   },
   "outputs": [
    {
     "data": {
      "image/png": "[encoded data removed]",
      "text/plain": [
       "<Figure size 720x360 with 2 Axes>"
      ]
     },
     "metadata": {
      "needs_background": "light"
     },
     "output_type": "display_data"
    }
   ],
   "source": [
    "# base = baseDados['Vazao'][Noutlier]\n",
    "plt.figure(figsize=[10,5])\n",
    "plt.subplot(121)\n",
    "\n",
    "plt.hist(baseDados['Chuva'][nOutlier])\n",
    "plt.title(\" chuva sem outliers\")\n",
    "plt.ylim([0,20000])\n",
    "plt.subplot(122)\n",
    "plt.hist(baseDados['Chuva'][~nOutlier])\n",
    "plt.title(\" chuva só outliers\")\n",
    "plt.ylim([0,20000])\n",
    "plt.show()"
   ]
  },
  {
   "cell_type": "markdown",
   "metadata": {
    "slideshow": {
     "slide_type": "slide"
    }
   },
   "source": [
    "# descricao da base\n",
    "+ bacias com maior relação entre a chuva e a vazao pode ser mais semelhantes"
   ]
  },
  {
   "cell_type": "code",
   "execution_count": 11,
   "metadata": {
    "slideshow": {
     "slide_type": "slide"
    }
   },
   "outputs": [
    {
     "data": {
      "text/html": [
       "<div>\n",
       "<style scoped>\n",
       "    .dataframe tbody tr th:only-of-type {\n",
       "        vertical-align: middle;\n",
       "    }\n",
       "\n",
       "    .dataframe tbody tr th {\n",
       "        vertical-align: top;\n",
       "    }\n",
       "\n",
       "    .dataframe thead th {\n",
       "        text-align: right;\n",
       "    }\n",
       "</style>\n",
       "<table border=\"1\" class=\"dataframe\">\n",
       "  <thead>\n",
       "    <tr style=\"text-align: right;\">\n",
       "      <th></th>\n",
       "      <th>Vazao</th>\n",
       "      <th>Chuva</th>\n",
       "    </tr>\n",
       "  </thead>\n",
       "  <tbody>\n",
       "    <tr>\n",
       "      <th>Vazao</th>\n",
       "      <td>1.00000</td>\n",
       "      <td>0.59691</td>\n",
       "    </tr>\n",
       "    <tr>\n",
       "      <th>Chuva</th>\n",
       "      <td>0.59691</td>\n",
       "      <td>1.00000</td>\n",
       "    </tr>\n",
       "  </tbody>\n",
       "</table>\n",
       "</div>"
      ],
      "text/plain": [
       "         Vazao    Chuva\n",
       "Vazao  1.00000  0.59691\n",
       "Chuva  0.59691  1.00000"
      ]
     },
     "execution_count": 11,
     "metadata": {},
     "output_type": "execute_result"
    }
   ],
   "source": [
    "import seaborn as sns\n",
    "baseDados[['Vazao', 'Chuva']].corr()"
   ]
  },
  {
   "cell_type": "code",
   "execution_count": 12,
   "metadata": {
    "slideshow": {
     "slide_type": "slide"
    }
   },
   "outputs": [
    {
     "name": "stderr",
     "output_type": "stream",
     "text": [
      "/home/gabriel/anaconda3/lib/python3.6/site-packages/ipykernel_launcher.py:3: UserWarning: Boolean Series key will be reindexed to match DataFrame index.\n",
      "  This is separate from the ipykernel package so we can avoid doing imports until\n"
     ]
    },
    {
     "data": {
      "text/plain": [
       "<matplotlib.axes._subplots.AxesSubplot at 0x7f7066d24da0>"
      ]
     },
     "execution_count": 12,
     "metadata": {},
     "output_type": "execute_result"
    },
    {
     "data": {
      "image/png": "[encoded data removed]",
      "text/plain": [
       "<Figure size 1368x720 with 2 Axes>"
      ]
     },
     "metadata": {
      "needs_background": "light"
     },
     "output_type": "display_data"
    }
   ],
   "source": [
    "baseDados[['Vazao', 'Ano']].set_index('Ano')\n",
    "plt.figure(figsize=[19,10])\n",
    "sns.heatmap(baseDados[['Vazao', 'Ano']].set_index('Ano')[nOutlier])"
   ]
  },
  {
   "cell_type": "markdown",
   "metadata": {
    "slideshow": {
     "slide_type": "slide"
    }
   },
   "source": [
    "# Algumas Observações\n",
    "\n",
    "- A variação da vazão é muito grande entre anos vizinhos, pode ser algum erro\n",
    "- Existem anos com muito menos dados que outros por exemplo 2009, 2007 pode ter sido alguma falha na estação na época \n",
    "- 2016 está incompleto\n",
    "\n"
   ]
  },
  {
   "cell_type": "code",
   "execution_count": 13,
   "metadata": {
    "slideshow": {
     "slide_type": "slide"
    }
   },
   "outputs": [
    {
     "data": {
      "text/html": [
       "<div>\n",
       "<style scoped>\n",
       "    .dataframe tbody tr th:only-of-type {\n",
       "        vertical-align: middle;\n",
       "    }\n",
       "\n",
       "    .dataframe tbody tr th {\n",
       "        vertical-align: top;\n",
       "    }\n",
       "\n",
       "    .dataframe thead tr th {\n",
       "        text-align: left;\n",
       "    }\n",
       "\n",
       "    .dataframe thead tr:last-of-type th {\n",
       "        text-align: right;\n",
       "    }\n",
       "</style>\n",
       "<table border=\"1\" class=\"dataframe\">\n",
       "  <thead>\n",
       "    <tr>\n",
       "      <th></th>\n",
       "      <th colspan=\"8\" halign=\"left\">Vazao</th>\n",
       "    </tr>\n",
       "    <tr>\n",
       "      <th></th>\n",
       "      <th>count</th>\n",
       "      <th>mean</th>\n",
       "      <th>std</th>\n",
       "      <th>min</th>\n",
       "      <th>25%</th>\n",
       "      <th>50%</th>\n",
       "      <th>75%</th>\n",
       "      <th>max</th>\n",
       "    </tr>\n",
       "    <tr>\n",
       "      <th>Mes</th>\n",
       "      <th></th>\n",
       "      <th></th>\n",
       "      <th></th>\n",
       "      <th></th>\n",
       "      <th></th>\n",
       "      <th></th>\n",
       "      <th></th>\n",
       "      <th></th>\n",
       "    </tr>\n",
       "  </thead>\n",
       "  <tbody>\n",
       "    <tr>\n",
       "      <th>1</th>\n",
       "      <td>2464.0</td>\n",
       "      <td>12.122831</td>\n",
       "      <td>14.066405</td>\n",
       "      <td>2.589800</td>\n",
       "      <td>7.373000</td>\n",
       "      <td>9.788000</td>\n",
       "      <td>13.460000</td>\n",
       "      <td>508.5000</td>\n",
       "    </tr>\n",
       "    <tr>\n",
       "      <th>2</th>\n",
       "      <td>2243.0</td>\n",
       "      <td>12.734924</td>\n",
       "      <td>15.311290</td>\n",
       "      <td>2.971100</td>\n",
       "      <td>7.772000</td>\n",
       "      <td>10.476600</td>\n",
       "      <td>14.500000</td>\n",
       "      <td>566.0000</td>\n",
       "    </tr>\n",
       "    <tr>\n",
       "      <th>3</th>\n",
       "      <td>2450.0</td>\n",
       "      <td>12.458082</td>\n",
       "      <td>8.791078</td>\n",
       "      <td>3.566200</td>\n",
       "      <td>8.004800</td>\n",
       "      <td>10.440000</td>\n",
       "      <td>14.206405</td>\n",
       "      <td>195.3000</td>\n",
       "    </tr>\n",
       "    <tr>\n",
       "      <th>4</th>\n",
       "      <td>2400.0</td>\n",
       "      <td>10.657012</td>\n",
       "      <td>6.789628</td>\n",
       "      <td>3.821000</td>\n",
       "      <td>7.128000</td>\n",
       "      <td>9.376000</td>\n",
       "      <td>12.160000</td>\n",
       "      <td>134.4535</td>\n",
       "    </tr>\n",
       "    <tr>\n",
       "      <th>5</th>\n",
       "      <td>2480.0</td>\n",
       "      <td>8.080353</td>\n",
       "      <td>3.222022</td>\n",
       "      <td>3.756400</td>\n",
       "      <td>6.059838</td>\n",
       "      <td>7.404000</td>\n",
       "      <td>9.390000</td>\n",
       "      <td>58.0500</td>\n",
       "    </tr>\n",
       "    <tr>\n",
       "      <th>6</th>\n",
       "      <td>2400.0</td>\n",
       "      <td>6.757749</td>\n",
       "      <td>7.407274</td>\n",
       "      <td>3.104135</td>\n",
       "      <td>5.147972</td>\n",
       "      <td>6.060345</td>\n",
       "      <td>7.500000</td>\n",
       "      <td>347.0000</td>\n",
       "    </tr>\n",
       "    <tr>\n",
       "      <th>7</th>\n",
       "      <td>2449.0</td>\n",
       "      <td>5.649027</td>\n",
       "      <td>2.299675</td>\n",
       "      <td>2.754617</td>\n",
       "      <td>4.430100</td>\n",
       "      <td>5.203200</td>\n",
       "      <td>6.384000</td>\n",
       "      <td>58.0300</td>\n",
       "    </tr>\n",
       "    <tr>\n",
       "      <th>8</th>\n",
       "      <td>2449.0</td>\n",
       "      <td>4.909574</td>\n",
       "      <td>2.404914</td>\n",
       "      <td>2.317902</td>\n",
       "      <td>3.858693</td>\n",
       "      <td>4.572200</td>\n",
       "      <td>5.398293</td>\n",
       "      <td>84.7000</td>\n",
       "    </tr>\n",
       "    <tr>\n",
       "      <th>9</th>\n",
       "      <td>2370.0</td>\n",
       "      <td>5.016266</td>\n",
       "      <td>2.515227</td>\n",
       "      <td>2.440000</td>\n",
       "      <td>3.618000</td>\n",
       "      <td>4.405764</td>\n",
       "      <td>5.466000</td>\n",
       "      <td>32.9500</td>\n",
       "    </tr>\n",
       "    <tr>\n",
       "      <th>10</th>\n",
       "      <td>2462.0</td>\n",
       "      <td>5.629681</td>\n",
       "      <td>3.259123</td>\n",
       "      <td>2.230000</td>\n",
       "      <td>3.792000</td>\n",
       "      <td>4.830000</td>\n",
       "      <td>6.300000</td>\n",
       "      <td>49.9100</td>\n",
       "    </tr>\n",
       "    <tr>\n",
       "      <th>11</th>\n",
       "      <td>2397.0</td>\n",
       "      <td>6.958912</td>\n",
       "      <td>6.227936</td>\n",
       "      <td>2.230000</td>\n",
       "      <td>4.452000</td>\n",
       "      <td>5.742828</td>\n",
       "      <td>7.679244</td>\n",
       "      <td>196.6000</td>\n",
       "    </tr>\n",
       "    <tr>\n",
       "      <th>12</th>\n",
       "      <td>2475.0</td>\n",
       "      <td>9.318544</td>\n",
       "      <td>7.893749</td>\n",
       "      <td>2.642500</td>\n",
       "      <td>5.617000</td>\n",
       "      <td>7.500000</td>\n",
       "      <td>10.520000</td>\n",
       "      <td>177.2000</td>\n",
       "    </tr>\n",
       "  </tbody>\n",
       "</table>\n",
       "</div>"
      ],
      "text/plain": [
       "      Vazao                                                                  \\\n",
       "      count       mean        std       min       25%        50%        75%   \n",
       "Mes                                                                           \n",
       "1    2464.0  12.122831  14.066405  2.589800  7.373000   9.788000  13.460000   \n",
       "2    2243.0  12.734924  15.311290  2.971100  7.772000  10.476600  14.500000   \n",
       "3    2450.0  12.458082   8.791078  3.566200  8.004800  10.440000  14.206405   \n",
       "4    2400.0  10.657012   6.789628  3.821000  7.128000   9.376000  12.160000   \n",
       "5    2480.0   8.080353   3.222022  3.756400  6.059838   7.404000   9.390000   \n",
       "6    2400.0   6.757749   7.407274  3.104135  5.147972   6.060345   7.500000   \n",
       "7    2449.0   5.649027   2.299675  2.754617  4.430100   5.203200   6.384000   \n",
       "8    2449.0   4.909574   2.404914  2.317902  3.858693   4.572200   5.398293   \n",
       "9    2370.0   5.016266   2.515227  2.440000  3.618000   4.405764   5.466000   \n",
       "10   2462.0   5.629681   3.259123  2.230000  3.792000   4.830000   6.300000   \n",
       "11   2397.0   6.958912   6.227936  2.230000  4.452000   5.742828   7.679244   \n",
       "12   2475.0   9.318544   7.893749  2.642500  5.617000   7.500000  10.520000   \n",
       "\n",
       "               \n",
       "          max  \n",
       "Mes            \n",
       "1    508.5000  \n",
       "2    566.0000  \n",
       "3    195.3000  \n",
       "4    134.4535  \n",
       "5     58.0500  \n",
       "6    347.0000  \n",
       "7     58.0300  \n",
       "8     84.7000  \n",
       "9     32.9500  \n",
       "10    49.9100  \n",
       "11   196.6000  \n",
       "12   177.2000  "
      ]
     },
     "execution_count": 13,
     "metadata": {},
     "output_type": "execute_result"
    }
   ],
   "source": [
    "baseDados[['Vazao', 'Mes']].groupby('Mes').describe()"
   ]
  },
  {
   "cell_type": "code",
   "execution_count": 14,
   "metadata": {
    "slideshow": {
     "slide_type": "slide"
    }
   },
   "outputs": [
    {
     "data": {
      "image/png": "[encoded data removed]",
      "text/plain": [
       "<Figure size 432x288 with 1 Axes>"
      ]
     },
     "metadata": {
      "needs_background": "light"
     },
     "output_type": "display_data"
    }
   ],
   "source": [
    "baseDados[['Vazao', 'Mes']].groupby('Mes').mean().plot()\n",
    "plt.title('média das vazões por mes')\n",
    "plt.show()"
   ]
  },
  {
   "cell_type": "code",
   "execution_count": 15,
   "metadata": {
    "slideshow": {
     "slide_type": "skip"
    }
   },
   "outputs": [],
   "source": [
    "# print(sorted(baseDados[['Vazao', 'Ano']].groupby('Ano')))\n",
    "# plt.title('plot das vazões por mes')\n",
    "# plt.show()"
   ]
  },
  {
   "cell_type": "code",
   "execution_count": 16,
   "metadata": {
    "slideshow": {
     "slide_type": "slide"
    }
   },
   "outputs": [
    {
     "data": {
      "image/png": "[encoded data removed]",
      "text/plain": [
       "<Figure size 432x288 with 1 Axes>"
      ]
     },
     "metadata": {
      "needs_background": "light"
     },
     "output_type": "display_data"
    }
   ],
   "source": [
    "baseDados[['Vazao', 'Mes']].groupby('Mes').median().plot()\n",
    "plt.title('mediana das vazões por mes')\n",
    "plt.show()"
   ]
  },
  {
   "cell_type": "markdown",
   "metadata": {
    "slideshow": {
     "slide_type": "slide"
    }
   },
   "source": [
    "# Algumas Observações\n",
    "\n",
    "- O minimo de vazão é muito regular enqunto o max flutua muito\n",
    "- O gráfico parece muito o ENaSud talvez devido a importancia do Paraiba do Sul para a Região sudeste\n",
    "- Provavelmente os meses com maior flutuação no std jan, fev, mar serão os mais dificeis de criar a relação\n",
    "- As medianas são muito estáveis e parecidas, um sinal de robustez e presença de padrão entre os meses \n"
   ]
  },
  {
   "cell_type": "code",
   "execution_count": 17,
   "metadata": {
    "slideshow": {
     "slide_type": "skip"
    }
   },
   "outputs": [],
   "source": [
    "# grupos = baseDados[['Vazao', 'Mes']].groupby('Mes')\n",
    "# for grupo, num in zip(grupos, range(1, len(grupos)+1)):\n",
    "#     pd.DataFrame(grupo[1]).boxplot()   \n",
    "#     plt.tight_layout()\n",
    "#     plt.title('boxPlotMes'+str(num))\n",
    "#     plt.savefig('saida/boxPlotporMes'+str(num)+'.eps')\n",
    "#     plt.show()\n",
    "     \n",
    "# # plt.savefig('saida/boxPlotporAno.eps')\n"
   ]
  },
  {
   "cell_type": "markdown",
   "metadata": {
    "slideshow": {
     "slide_type": "skip"
    }
   },
   "source": [
    "# o Rio tem secado?\n",
    "\n",
    "### Afirmação no site da Ana:\n",
    "\n",
    "Mesmo com o importante papel no cenário nacional, a bacia hidrográfica do rio Paraíba do Sul **passa por uma das piores secas desde o início dos registros dos níveis dos rios, em 1930.** Como medida para o enfrentamento dessa crise de escassez hídrica, a Agência Nacional de Águas (ANA) vem emitindo resoluções com o objetivo de preservar os estoques disponíveis de água no reservatório equivalente desta Bacia, composto pelos barramentos de Paraibuna, Santa Branca, Jaguari e Funil. E os planos de ações complementares descrevem medidas adicionais para minimizar os efeitos deste período crítico.\n",
    "\n",
    "Site ANA :\n",
    "http://www3.ana.gov.br/portal/ANA/sala-de-situacao/paraiba-do-sul/paraiba-do-sul-saiba-mais"
   ]
  },
  {
   "cell_type": "code",
   "execution_count": 18,
   "metadata": {
    "slideshow": {
     "slide_type": "slide"
    }
   },
   "outputs": [
    {
     "data": {
      "image/png": "[encoded data removed]",
      "text/plain": [
       "<Figure size 432x288 with 1 Axes>"
      ]
     },
     "metadata": {
      "needs_background": "light"
     },
     "output_type": "display_data"
    }
   ],
   "source": [
    "baseDados[['Vazao','Ano']].groupby('Ano').mean().plot()\n",
    "plt.title('media da Vazao por Ano')\n",
    "plt.show()"
   ]
  },
  {
   "cell_type": "code",
   "execution_count": 19,
   "metadata": {
    "slideshow": {
     "slide_type": "skip"
    }
   },
   "outputs": [],
   "source": [
    "# listaVazaoPorAno=[x for x in baseDados[['Vazao','Ano']].groupby('Ano')]\n",
    "# numAnos = len(listaVazaoPorAno)\n",
    "# print(int(numAnos/3))\n",
    "# for grupo, index in zip(listaVazaoPorAno, range(1,82)):\n",
    "#     plt.subplot(int(numAnos/3), 3, index)\n",
    "#     pd.DataFrame(grupo[1]['Vazao']).plot()\n",
    "#     plt.title('vazao por mes no ano ' + str(grupo[0]))\n",
    "# plt.show()"
   ]
  },
  {
   "cell_type": "code",
   "execution_count": 20,
   "metadata": {
    "slideshow": {
     "slide_type": "slide"
    }
   },
   "outputs": [
    {
     "data": {
      "image/png": "[encoded data removed]",
      "text/plain": [
       "<Figure size 432x288 with 1 Axes>"
      ]
     },
     "metadata": {
      "needs_background": "light"
     },
     "output_type": "display_data"
    }
   ],
   "source": [
    "x = np.arange(len(baseDados))\n",
    "plt.plot(x,baseDados['Vazao'], linestyle='-', linewidth=0.1)\n",
    "plt.xlabel('dias')\n",
    "plt.ylabel('vazao')\n",
    "plt.tight_layout()\n",
    "plt.savefig('saida/plot.eps')\n",
    "plt.show()"
   ]
  },
  {
   "cell_type": "markdown",
   "metadata": {
    "slideshow": {
     "slide_type": "skip"
    }
   },
   "source": [
    "### aparentemente a Vazao nao tem diminuido, pelas analises acima, ou seja, não parece ter sentido a afirmação no site da ANA, a nao ser que, seca não tenha relação com a Vazão"
   ]
  },
  {
   "cell_type": "markdown",
   "metadata": {
    "slideshow": {
     "slide_type": "slide"
    }
   },
   "source": [
    "# Definicao do conjunto de treino, validacao, teste\n",
    " "
   ]
  },
  {
   "cell_type": "code",
   "execution_count": 21,
   "metadata": {
    "scrolled": false,
    "slideshow": {
     "slide_type": "slide"
    }
   },
   "outputs": [
    {
     "name": "stdout",
     "output_type": "stream",
     "text": [
      " tamanhoTotal 29039 \n",
      " tamanhoTreino 20328 \n",
      " tamanhoValidacao 2903 \n",
      " tamanhoTeste 5807\n",
      " soma 29038\n"
     ]
    }
   ],
   "source": [
    "tamTotal = len(baseDados)\n",
    "tamConjuntoTreino = int(np.ceil(len(baseDados)*0.70))\n",
    "tamConjuntoValidacao = int(np.floor(len(baseDados)*0.10))\n",
    "tamConjuntoTeste = int(np.floor(len(baseDados)*0.20))\n",
    "# xTreino = baseDados[:tamConjuntoTreino]\n",
    "print(' tamanhoTotal', tamTotal,'\\n', 'tamanhoTreino', tamConjuntoTreino,'\\n', 'tamanhoValidacao', tamConjuntoValidacao,'\\n', 'tamanhoTeste', tamConjuntoTeste)\n",
    "print(' soma', tamConjuntoTreino+tamConjuntoTeste+tamConjuntoValidacao)"
   ]
  },
  {
   "cell_type": "code",
   "execution_count": 22,
   "metadata": {
    "slideshow": {
     "slide_type": "slide"
    }
   },
   "outputs": [
    {
     "name": "stdout",
     "output_type": "stream",
     "text": [
      "20328 2903 5808\n"
     ]
    }
   ],
   "source": [
    "treino = baseDados['Vazao'][:tamConjuntoTreino]\n",
    "validacao = baseDados['Vazao'][tamConjuntoTreino: tamConjuntoTreino+tamConjuntoValidacao]\n",
    "teste = baseDados['Vazao'][tamConjuntoTreino+tamConjuntoValidacao: ]\n",
    "print( len(treino), len(validacao), len(teste))"
   ]
  },
  {
   "cell_type": "code",
   "execution_count": 23,
   "metadata": {
    "slideshow": {
     "slide_type": "slide"
    }
   },
   "outputs": [
    {
     "data": {
      "image/png": "[encoded data removed]",
      "text/plain": [
       "<Figure size 432x288 with 1 Axes>"
      ]
     },
     "metadata": {
      "needs_background": "light"
     },
     "output_type": "display_data"
    }
   ],
   "source": [
    "# df = pd.DataFrame({'Treino': treino, 'Validacao': validacao, 'Teste': teste})\n",
    "plt.boxplot([treino, validacao, teste], labels=['treino', 'validacao', 'teste'])\n",
    "# plt.boxplot(validacao)\n",
    "# plt.boxplot(teste)\n",
    "# df = pd.concat(treino, validacao)\n",
    "plt.show()"
   ]
  },
  {
   "cell_type": "markdown",
   "metadata": {
    "slideshow": {
     "slide_type": "subslide"
    }
   },
   "source": [
    "### Aparentemente a escolha dos conjuntos está representativa no domínio do problema."
   ]
  },
  {
   "cell_type": "code",
   "execution_count": 24,
   "metadata": {
    "slideshow": {
     "slide_type": "skip"
    }
   },
   "outputs": [
    {
     "name": "stdout",
     "output_type": "stream",
     "text": [
      "\n",
      "7-Zip [64] 16.02 : Copyright (c) 1999-2016 Igor Pavlov : 2016-05-21\n",
      "p7zip Version 16.02 (locale=en_US.utf8,Utf16=on,HugeFiles=on,64 bits,4 CPUs Intel(R) Core(TM) i5-4210U CPU @ 1.70GHz (40651),ASM,AES-NI)\n",
      "\n",
      "Open archive: backup.7z\n",
      "--\n",
      "Path = backup.7z\n",
      "Type = 7z\n",
      "Physical Size = 20067423\n",
      "Headers Size = 1327\n",
      "Method = LZMA2:24\n",
      "Solid = +\n",
      "Blocks = 1\n",
      "\n",
      "Scanning the drive:\n",
      "  0M Sca        3 folders, 98 files, 32913600 bytes (32 MiB)\n",
      "\n",
      "Updating archive: backup.7z\n",
      "\n",
      "Items to compress: 101\n",
      "\n",
      "      3% 3 U backup.                  5% 3 U backup.                  7% 3 U backup.                 11% 3 U backup.                 15% 3 U backup.                 18% 3 U backup.                 22% 3 U backup.                 25% 3 U backup.                 28% 3 U backup.                 31% 3 U backup.                 33% 3 U backup.                 35% 3 U backup.                 37% 3 U backup.                 40% 3 U backup.                 42% 3 U backup.                 44% 3 U backup.                 46% 3 U backup.                 47% 3 U backup.                 50% 3 U backup.                 54% 3 U backup.                 58% 3 U backup.                 61% 3 U backup.                 65% 4 U instancia/data.zi                           69% 4 U instancia/data.zi                           72% 4 U instancia/data.zi                           74% 4 U instancia/data.zi                           77% 4 U instancia/data.zi                           78% 5 U notebook.tar.                       83% 5 U notebook.tar.                       85% 5 U notebook.tar.                       88% 5 U notebook.tar.                       91% 5 U notebook.tar.                       93% 8 U saida/BoxPlotPorMes/boxPlotporMes11.e                                               93% 13 U saida/BoxPlotPorMes/boxPlotporMes5.e                                               93% 15 U saida/BoxPlotPorMes/boxPlotporMes7.e                                               93% 17 U saida/BoxPlotPorMes/boxPlotporMes9.e                                               94% 18 U saida/boxPlotporAno.ep                                 94% 38 U saida/boxPlotporMes27.ep                                   94% 63 U saida/boxPlotporMes5.e                                100% 98 U saida/plot.e                      \n",
      "Files read from disk: 98\n",
      "Archive size: 22932646 bytes (22 MiB)\n",
      "Everything is Ok\n"
     ]
    }
   ],
   "source": [
    "!7z a backup.7z * "
   ]
  },
  {
   "cell_type": "code",
   "execution_count": 25,
   "metadata": {
    "slideshow": {
     "slide_type": "skip"
    }
   },
   "outputs": [
    {
     "name": "stdout",
     "output_type": "stream",
     "text": [
      "[NbConvertApp] Converting notebook analisaBase.ipynb to slides\n",
      "[NbConvertApp] Writing 512412 bytes to analisaBase.slides.html\n",
      "[NbConvertApp] Redirecting reveal.js requests to https://cdnjs.cloudflare.com/ajax/libs/reveal.js/3.5.0\n",
      "Serving your slides at http://127.0.0.1:8000/analisaBase.slides.html\n",
      "Use Control-C to stop this server\n",
      "WARNING:tornado.access:404 GET /custom.css (127.0.0.1) 0.74ms\n",
      "WARNING:tornado.access:404 GET /custom.css (127.0.0.1) 1.01ms\n",
      "WARNING:tornado.access:404 GET /favicon.ico (127.0.0.1) 1.15ms\n",
      "^C\n",
      "\n",
      "Interrupted\n"
     ]
    }
   ],
   "source": [
    "!jupyter nbconvert analisaBase.ipynb --to slides --post serve"
   ]
  },
  {
   "cell_type": "code",
   "execution_count": null,
   "metadata": {
    "slideshow": {
     "slide_type": "skip"
    }
   },
   "outputs": [],
   "source": []
  }
 ],
 "metadata": {
  "celltoolbar": "Slideshow",
  "kernelspec": {
   "display_name": "Python 3",
   "language": "python",
   "name": "python3"
  },
  "language_info": {
   "codemirror_mode": {
    "name": "ipython",
    "version": 3
   },
   "file_extension": ".py",
   "mimetype": "text/x-python",
   "name": "python",
   "nbconvert_exporter": "python",
   "pygments_lexer": "ipython3",
   "version": "3.7.2"
  }
 },
 "nbformat": 4,
 "nbformat_minor": 2
}
