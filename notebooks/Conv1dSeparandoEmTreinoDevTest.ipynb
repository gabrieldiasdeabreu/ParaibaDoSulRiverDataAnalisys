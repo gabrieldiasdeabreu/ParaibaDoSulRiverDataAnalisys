{
 "cells": [
  {
   "cell_type": "code",
   "execution_count": null,
   "metadata": {
    "slideshow": {
     "slide_type": "skip"
    }
   },
   "outputs": [],
   "source": [
    "import pandas as pd\n",
    "import numpy as np\n",
    "from  sklearn.preprocessing import MinMaxScaler"
   ]
  },
  {
   "cell_type": "markdown",
   "metadata": {
    "slideshow": {
     "slide_type": "skip"
    }
   },
   "source": [
    "lembrar depois de manipular os outliers e "
   ]
  },
  {
   "cell_type": "code",
   "execution_count": null,
   "metadata": {
    "slideshow": {
     "slide_type": "slide"
    }
   },
   "outputs": [],
   "source": [
    "BaseDados = pd.read_csv('../instancia/BaseParaibaDoSulPreProcessadas-EstacoesUnidas.csv', index_col='Data')\n",
    "BaseDados.head()"
   ]
  },
  {
   "cell_type": "code",
   "execution_count": null,
   "metadata": {
    "slideshow": {
     "slide_type": "skip"
    }
   },
   "outputs": [],
   "source": [
    "def normalizaBase(dataset, tamanhoConjTeste):\n",
    "    normalizer = MinMaxScaler(feature_range=(0.1, 0.9))\n",
    "    normalizer.fit(dataset[:-tamanhoConjTeste])\n",
    "#     normalizer.transform(dataset).T\n",
    "    return normalizer.transform(dataset)"
   ]
  },
  {
   "cell_type": "code",
   "execution_count": null,
   "metadata": {
    "slideshow": {
     "slide_type": "skip"
    }
   },
   "outputs": [],
   "source": [
    "dataset = normalizaBase(BaseDados.to_numpy(), 3701)\n",
    "# BaseDados.to_numpy().shape\n",
    "# len(BaseDados.to_numpy().T[:, :-tamanhoConjTeste][0])"
   ]
  },
  {
   "cell_type": "code",
   "execution_count": null,
   "metadata": {
    "slideshow": {
     "slide_type": "skip"
    }
   },
   "outputs": [],
   "source": [
    "def janelamento(serie, ordem):\n",
    "    \"\"\"\n",
    "    Recebe uma serie e retorna um ndArray \n",
    "    com n linhas janeladas de ordem em ordem\n",
    "    \"\"\"    \n",
    "    tamanhoSerie, numeroEstacoes = serie.shape\n",
    "    print(serie.shape)\n",
    "    x = list()\n",
    "    y = list()\n",
    "    yAtual = ordem\n",
    "    while(yAtual < tamanhoSerie):\n",
    "        x.append(serie[(yAtual-ordem):yAtual])\n",
    "        y.append(serie[yAtual])\n",
    "        yAtual+=1\n",
    "        \n",
    "    x = np.array(x).reshape((-1, ordem, numeroEstacoes))\n",
    "    y = np.array(y).reshape((-1, 1, numeroEstacoes))\n",
    "    return x, y"
   ]
  },
  {
   "cell_type": "code",
   "execution_count": null,
   "metadata": {
    "slideshow": {
     "slide_type": "skip"
    }
   },
   "outputs": [],
   "source": [
    "X, Y = janelamento(dataset, 10)\n",
    "print(X.shape, Y.shape)"
   ]
  },
  {
   "cell_type": "markdown",
   "metadata": {
    "slideshow": {
     "slide_type": "slide"
    }
   },
   "source": [
    "## dividir em teste e Treino"
   ]
  },
  {
   "cell_type": "code",
   "execution_count": null,
   "metadata": {
    "slideshow": {
     "slide_type": "slide"
    }
   },
   "outputs": [
    {
     "name": "stdout",
     "output_type": "stream",
     "text": [
      "18502 2467 3701\n"
     ]
    },
    {
     "data": {
      "text/plain": [
       "0"
      ]
     },
     "execution_count": 18,
     "metadata": {},
     "output_type": "execute_result"
    }
   ],
   "source": [
    "TamanhoBase = len(X)\n",
    "tamanhoConjTreino = int(np.floor(len(X)*0.75))\n",
    "tamanhoConjValidacao = int(np.ceil(len(X)*0.10))\n",
    "tamanhoConjTeste = int(np.ceil(len(X)*0.15))\n",
    "print(tamanhoConjTreino, tamanhoConjValidacao, tamanhoConjTeste)\n",
    "TamanhoBase - (tamanhoConjTreino + tamanhoConjValidacao + tamanhoConjTeste)"
   ]
  },
  {
   "cell_type": "markdown",
   "metadata": {
    "slideshow": {
     "slide_type": "slide"
    }
   },
   "source": [
    "## Como tratar esses Nans?\n",
    "\n",
    "https://www.researchgate.net/publication/224654729_Pattern_Classification_with_Missing_Values_using_Multitask_Learning\n",
    "\n",
    "# por enquanto coloquei 0 neles"
   ]
  },
  {
   "cell_type": "code",
   "execution_count": null,
   "metadata": {
    "slideshow": {
     "slide_type": "skip"
    }
   },
   "outputs": [],
   "source": [
    "x_treino = X[:tamanhoConjTreino]\n",
    "y_treino = Y[:tamanhoConjTreino]\n",
    "x_validacao = X[tamanhoConjTreino: tamanhoConjTreino+ tamanhoConjValidacao]\n",
    "y_validacao = Y[tamanhoConjTreino: tamanhoConjTreino+ tamanhoConjValidacao]\n",
    "x_teste = X[-tamanhoConjTeste: ]\n",
    "y_teste = Y[-tamanhoConjTeste: ]"
   ]
  },
  {
   "cell_type": "code",
   "execution_count": null,
   "metadata": {
    "slideshow": {
     "slide_type": "skip"
    }
   },
   "outputs": [
    {
     "name": "stdout",
     "output_type": "stream",
     "text": [
      "(18502, 10, 45) (18502, 1, 45)\n"
     ]
    }
   ],
   "source": [
    "print(x_treino.shape, y_treino.shape)"
   ]
  },
  {
   "cell_type": "code",
   "execution_count": null,
   "metadata": {
    "slideshow": {
     "slide_type": "skip"
    }
   },
   "outputs": [],
   "source": [
    "import tensorflow.keras as k"
   ]
  },
  {
   "cell_type": "code",
   "execution_count": null,
   "metadata": {
    "scrolled": false,
    "slideshow": {
     "slide_type": "slide"
    }
   },
   "outputs": [
    {
     "name": "stdout",
     "output_type": "stream",
     "text": [
      "Train on 18502 samples, validate on 2467 samples\n",
      "Epoch 1/100\n",
      "  512/18502 [..............................] - ETA: 3:26 - loss: 0.0295 - mean_absolute_percentage_error: 95.2950 WARNING:tensorflow:Method on_batch_end() is slow compared to the batch update (0.162860). Check your callbacks.\n",
      "18502/18502 [==============================] - 11s 610us/step - loss: 0.0049 - mean_absolute_percentage_error: 27.7521 - val_loss: 0.0028 - val_mean_absolute_percentage_error: 17.9664\n",
      "Epoch 2/100\n",
      "18502/18502 [==============================] - 5s 273us/step - loss: 0.0020 - mean_absolute_percentage_error: 16.3033 - val_loss: 0.0024 - val_mean_absolute_percentage_error: 16.1975\n",
      "Epoch 3/100\n",
      "18502/18502 [==============================] - 3s 153us/step - loss: 0.0018 - mean_absolute_percentage_error: 14.4502 - val_loss: 0.0022 - val_mean_absolute_percentage_error: 15.1041\n",
      "Epoch 4/100\n",
      "18502/18502 [==============================] - 3s 150us/step - loss: 0.0017 - mean_absolute_percentage_error: 13.5922 - val_loss: 0.0022 - val_mean_absolute_percentage_error: 14.5328\n",
      "Epoch 5/100\n",
      "18502/18502 [==============================] - 3s 150us/step - loss: 0.0016 - mean_absolute_percentage_error: 13.0384 - val_loss: 0.0021 - val_mean_absolute_percentage_error: 14.8649\n",
      "Epoch 6/100\n",
      "18502/18502 [==============================] - 3s 148us/step - loss: 0.0016 - mean_absolute_percentage_error: 12.7127 - val_loss: 0.0021 - val_mean_absolute_percentage_error: 13.8622\n",
      "Epoch 7/100\n",
      "18502/18502 [==============================] - 3s 148us/step - loss: 0.0015 - mean_absolute_percentage_error: 12.3948 - val_loss: 0.0020 - val_mean_absolute_percentage_error: 13.5786\n",
      "Epoch 8/100\n",
      "18502/18502 [==============================] - 3s 151us/step - loss: 0.0015 - mean_absolute_percentage_error: 12.1982 - val_loss: 0.0020 - val_mean_absolute_percentage_error: 13.9120\n",
      "Epoch 9/100\n",
      "18502/18502 [==============================] - 3s 148us/step - loss: 0.0015 - mean_absolute_percentage_error: 12.1059 - val_loss: 0.0020 - val_mean_absolute_percentage_error: 13.7409\n",
      "Epoch 10/100\n",
      "18502/18502 [==============================] - 3s 150us/step - loss: 0.0015 - mean_absolute_percentage_error: 12.0315 - val_loss: 0.0020 - val_mean_absolute_percentage_error: 13.3944\n",
      "Epoch 11/100\n",
      "18502/18502 [==============================] - 3s 148us/step - loss: 0.0014 - mean_absolute_percentage_error: 11.8465 - val_loss: 0.0019 - val_mean_absolute_percentage_error: 13.2557\n",
      "Epoch 12/100\n",
      "18502/18502 [==============================] - 3s 149us/step - loss: 0.0014 - mean_absolute_percentage_error: 11.6492 - val_loss: 0.0019 - val_mean_absolute_percentage_error: 12.6872\n",
      "Epoch 13/100\n",
      "18502/18502 [==============================] - 3s 149us/step - loss: 0.0014 - mean_absolute_percentage_error: 11.5986 - val_loss: 0.0019 - val_mean_absolute_percentage_error: 13.4587\n",
      "Epoch 14/100\n",
      "18502/18502 [==============================] - 3s 151us/step - loss: 0.0014 - mean_absolute_percentage_error: 11.5320 - val_loss: 0.0019 - val_mean_absolute_percentage_error: 12.3554\n",
      "Epoch 15/100\n",
      "18502/18502 [==============================] - 3s 149us/step - loss: 0.0014 - mean_absolute_percentage_error: 11.4192 - val_loss: 0.0019 - val_mean_absolute_percentage_error: 12.6526\n",
      "Epoch 16/100\n",
      "18502/18502 [==============================] - 3s 147us/step - loss: 0.0014 - mean_absolute_percentage_error: 11.4782 - val_loss: 0.0019 - val_mean_absolute_percentage_error: 12.1045\n",
      "Epoch 17/100\n",
      "18502/18502 [==============================] - 3s 148us/step - loss: 0.0014 - mean_absolute_percentage_error: 11.3158 - val_loss: 0.0019 - val_mean_absolute_percentage_error: 12.6182\n",
      "Epoch 18/100\n",
      "18502/18502 [==============================] - 3s 148us/step - loss: 0.0014 - mean_absolute_percentage_error: 11.2276 - val_loss: 0.0019 - val_mean_absolute_percentage_error: 13.0176\n",
      "Epoch 19/100\n",
      "18502/18502 [==============================] - 3s 147us/step - loss: 0.0014 - mean_absolute_percentage_error: 11.1749 - val_loss: 0.0019 - val_mean_absolute_percentage_error: 12.6157\n",
      "Epoch 20/100\n",
      "18502/18502 [==============================] - 3s 147us/step - loss: 0.0014 - mean_absolute_percentage_error: 11.1925 - val_loss: 0.0019 - val_mean_absolute_percentage_error: 12.9000\n",
      "Epoch 21/100\n",
      "18502/18502 [==============================] - 3s 148us/step - loss: 0.0013 - mean_absolute_percentage_error: 11.0075 - val_loss: 0.0018 - val_mean_absolute_percentage_error: 12.7146\n",
      "Epoch 22/100\n",
      "18502/18502 [==============================] - 3s 144us/step - loss: 0.0013 - mean_absolute_percentage_error: 11.0521 - val_loss: 0.0018 - val_mean_absolute_percentage_error: 12.9969\n",
      "Epoch 23/100\n",
      "18502/18502 [==============================] - 3s 146us/step - loss: 0.0013 - mean_absolute_percentage_error: 10.9526 - val_loss: 0.0018 - val_mean_absolute_percentage_error: 12.6552\n",
      "Epoch 24/100\n",
      "18502/18502 [==============================] - 3s 143us/step - loss: 0.0013 - mean_absolute_percentage_error: 10.9768 - val_loss: 0.0018 - val_mean_absolute_percentage_error: 12.6554\n",
      "Epoch 25/100\n",
      "18502/18502 [==============================] - 3s 148us/step - loss: 0.0013 - mean_absolute_percentage_error: 10.8906 - val_loss: 0.0018 - val_mean_absolute_percentage_error: 12.5036\n",
      "Epoch 26/100\n",
      "18502/18502 [==============================] - 3s 147us/step - loss: 0.0013 - mean_absolute_percentage_error: 10.8514 - val_loss: 0.0018 - val_mean_absolute_percentage_error: 12.9257\n",
      "Epoch 27/100\n",
      "18502/18502 [==============================] - 3s 147us/step - loss: 0.0013 - mean_absolute_percentage_error: 10.9158 - val_loss: 0.0018 - val_mean_absolute_percentage_error: 12.2364\n",
      "Epoch 28/100\n",
      "18502/18502 [==============================] - 3s 149us/step - loss: 0.0013 - mean_absolute_percentage_error: 10.8424 - val_loss: 0.0018 - val_mean_absolute_percentage_error: 12.8005\n",
      "Epoch 29/100\n",
      "18502/18502 [==============================] - 3s 145us/step - loss: 0.0013 - mean_absolute_percentage_error: 10.8525 - val_loss: 0.0018 - val_mean_absolute_percentage_error: 13.4933\n",
      "Epoch 30/100\n",
      "18502/18502 [==============================] - 3s 148us/step - loss: 0.0013 - mean_absolute_percentage_error: 10.7879 - val_loss: 0.0018 - val_mean_absolute_percentage_error: 12.5855\n",
      "Epoch 31/100\n",
      "18502/18502 [==============================] - 3s 148us/step - loss: 0.0013 - mean_absolute_percentage_error: 10.6977 - val_loss: 0.0018 - val_mean_absolute_percentage_error: 12.7006\n",
      "Epoch 32/100\n",
      "18502/18502 [==============================] - 3s 152us/step - loss: 0.0013 - mean_absolute_percentage_error: 10.6251 - val_loss: 0.0018 - val_mean_absolute_percentage_error: 13.0852\n",
      "Epoch 33/100\n",
      "18502/18502 [==============================] - 3s 145us/step - loss: 0.0013 - mean_absolute_percentage_error: 10.6312 - val_loss: 0.0018 - val_mean_absolute_percentage_error: 12.7853\n",
      "Epoch 34/100\n",
      "18502/18502 [==============================] - 3s 150us/step - loss: 0.0013 - mean_absolute_percentage_error: 10.6335 - val_loss: 0.0018 - val_mean_absolute_percentage_error: 12.3230\n",
      "Epoch 35/100\n",
      "18502/18502 [==============================] - 3s 146us/step - loss: 0.0013 - mean_absolute_percentage_error: 10.5937 - val_loss: 0.0018 - val_mean_absolute_percentage_error: 12.8575\n",
      "Epoch 36/100\n",
      "18502/18502 [==============================] - 3s 145us/step - loss: 0.0013 - mean_absolute_percentage_error: 10.5408 - val_loss: 0.0018 - val_mean_absolute_percentage_error: 13.2772\n",
      "Epoch 37/100\n",
      "18502/18502 [==============================] - 3s 148us/step - loss: 0.0013 - mean_absolute_percentage_error: 10.4927 - val_loss: 0.0018 - val_mean_absolute_percentage_error: 12.3823\n",
      "Epoch 38/100\n",
      "18502/18502 [==============================] - 3s 146us/step - loss: 0.0013 - mean_absolute_percentage_error: 10.4812 - val_loss: 0.0018 - val_mean_absolute_percentage_error: 12.8784\n",
      "Epoch 39/100\n",
      "18502/18502 [==============================] - 3s 145us/step - loss: 0.0013 - mean_absolute_percentage_error: 10.6037 - val_loss: 0.0018 - val_mean_absolute_percentage_error: 12.8945\n",
      "Epoch 40/100\n",
      "18502/18502 [==============================] - 3s 144us/step - loss: 0.0013 - mean_absolute_percentage_error: 10.5119 - val_loss: 0.0018 - val_mean_absolute_percentage_error: 12.6547\n",
      "Epoch 41/100\n",
      "18502/18502 [==============================] - 3s 147us/step - loss: 0.0013 - mean_absolute_percentage_error: 10.4180 - val_loss: 0.0018 - val_mean_absolute_percentage_error: 12.4903\n",
      "Epoch 42/100\n",
      "18502/18502 [==============================] - 3s 146us/step - loss: 0.0013 - mean_absolute_percentage_error: 10.5003 - val_loss: 0.0018 - val_mean_absolute_percentage_error: 12.1429\n",
      "Epoch 43/100\n",
      "18502/18502 [==============================] - 3s 149us/step - loss: 0.0012 - mean_absolute_percentage_error: 10.3735 - val_loss: 0.0018 - val_mean_absolute_percentage_error: 11.8230\n",
      "Epoch 44/100\n",
      "18502/18502 [==============================] - 3s 149us/step - loss: 0.0012 - mean_absolute_percentage_error: 10.4816 - val_loss: 0.0018 - val_mean_absolute_percentage_error: 12.2751\n",
      "Epoch 45/100\n",
      "18502/18502 [==============================] - 3s 147us/step - loss: 0.0012 - mean_absolute_percentage_error: 10.3906 - val_loss: 0.0018 - val_mean_absolute_percentage_error: 11.6963\n",
      "Epoch 46/100\n",
      "18502/18502 [==============================] - 3s 147us/step - loss: 0.0012 - mean_absolute_percentage_error: 10.3087 - val_loss: 0.0017 - val_mean_absolute_percentage_error: 11.8234\n",
      "Epoch 47/100\n",
      "18502/18502 [==============================] - 3s 144us/step - loss: 0.0012 - mean_absolute_percentage_error: 10.3336 - val_loss: 0.0018 - val_mean_absolute_percentage_error: 11.7926\n",
      "Epoch 48/100\n",
      "18502/18502 [==============================] - 3s 146us/step - loss: 0.0012 - mean_absolute_percentage_error: 10.2865 - val_loss: 0.0018 - val_mean_absolute_percentage_error: 12.8282\n",
      "Epoch 49/100\n",
      "18502/18502 [==============================] - 3s 146us/step - loss: 0.0012 - mean_absolute_percentage_error: 10.3179 - val_loss: 0.0018 - val_mean_absolute_percentage_error: 11.9547\n",
      "Epoch 50/100\n",
      "18502/18502 [==============================] - 3s 145us/step - loss: 0.0012 - mean_absolute_percentage_error: 10.1732 - val_loss: 0.0018 - val_mean_absolute_percentage_error: 13.4751\n",
      "Epoch 51/100\n",
      "18502/18502 [==============================] - 3s 146us/step - loss: 0.0012 - mean_absolute_percentage_error: 10.2677 - val_loss: 0.0017 - val_mean_absolute_percentage_error: 11.9511\n",
      "Epoch 52/100\n",
      "18502/18502 [==============================] - 3s 147us/step - loss: 0.0012 - mean_absolute_percentage_error: 10.1913 - val_loss: 0.0017 - val_mean_absolute_percentage_error: 12.4641\n",
      "Epoch 53/100\n",
      "18502/18502 [==============================] - 3s 146us/step - loss: 0.0012 - mean_absolute_percentage_error: 10.1295 - val_loss: 0.0017 - val_mean_absolute_percentage_error: 12.8176\n",
      "Epoch 54/100\n",
      "18502/18502 [==============================] - 3s 146us/step - loss: 0.0012 - mean_absolute_percentage_error: 10.1440 - val_loss: 0.0018 - val_mean_absolute_percentage_error: 12.6519\n",
      "Epoch 55/100\n",
      "18502/18502 [==============================] - 3s 146us/step - loss: 0.0012 - mean_absolute_percentage_error: 10.0561 - val_loss: 0.0018 - val_mean_absolute_percentage_error: 12.9636\n",
      "Epoch 56/100\n",
      "18502/18502 [==============================] - 3s 148us/step - loss: 0.0012 - mean_absolute_percentage_error: 10.1368 - val_loss: 0.0017 - val_mean_absolute_percentage_error: 11.7470\n",
      "Epoch 57/100\n",
      "18502/18502 [==============================] - 3s 145us/step - loss: 0.0012 - mean_absolute_percentage_error: 10.1197 - val_loss: 0.0017 - val_mean_absolute_percentage_error: 11.9756\n",
      "Epoch 58/100\n",
      "18502/18502 [==============================] - 3s 144us/step - loss: 0.0012 - mean_absolute_percentage_error: 10.0499 - val_loss: 0.0017 - val_mean_absolute_percentage_error: 11.7842\n",
      "Epoch 59/100\n",
      "18502/18502 [==============================] - 3s 144us/step - loss: 0.0012 - mean_absolute_percentage_error: 10.0143 - val_loss: 0.0017 - val_mean_absolute_percentage_error: 11.6582\n",
      "Epoch 60/100\n",
      "18502/18502 [==============================] - 3s 147us/step - loss: 0.0012 - mean_absolute_percentage_error: 9.9504 - val_loss: 0.0017 - val_mean_absolute_percentage_error: 12.2271\n",
      "Epoch 61/100\n",
      "18502/18502 [==============================] - 3s 144us/step - loss: 0.0012 - mean_absolute_percentage_error: 10.0002 - val_loss: 0.0018 - val_mean_absolute_percentage_error: 11.5222\n",
      "Epoch 62/100\n",
      "18502/18502 [==============================] - 3s 146us/step - loss: 0.0012 - mean_absolute_percentage_error: 9.9972 - val_loss: 0.0018 - val_mean_absolute_percentage_error: 11.8460\n",
      "Epoch 63/100\n",
      "18502/18502 [==============================] - 3s 148us/step - loss: 0.0012 - mean_absolute_percentage_error: 9.9765 - val_loss: 0.0017 - val_mean_absolute_percentage_error: 11.8340\n",
      "Epoch 64/100\n",
      "18502/18502 [==============================] - 3s 145us/step - loss: 0.0012 - mean_absolute_percentage_error: 9.8360 - val_loss: 0.0018 - val_mean_absolute_percentage_error: 12.6616\n",
      "Epoch 65/100\n",
      "18502/18502 [==============================] - 3s 147us/step - loss: 0.0012 - mean_absolute_percentage_error: 9.9664 - val_loss: 0.0017 - val_mean_absolute_percentage_error: 11.7762\n",
      "Epoch 66/100\n",
      "18502/18502 [==============================] - 3s 145us/step - loss: 0.0012 - mean_absolute_percentage_error: 9.9087 - val_loss: 0.0017 - val_mean_absolute_percentage_error: 12.3891\n",
      "Epoch 67/100\n",
      "18502/18502 [==============================] - 3s 144us/step - loss: 0.0012 - mean_absolute_percentage_error: 9.9353 - val_loss: 0.0017 - val_mean_absolute_percentage_error: 12.1947\n",
      "Epoch 68/100\n",
      "18502/18502 [==============================] - 3s 147us/step - loss: 0.0012 - mean_absolute_percentage_error: 9.8373 - val_loss: 0.0017 - val_mean_absolute_percentage_error: 11.8211\n",
      "Epoch 69/100\n",
      "18502/18502 [==============================] - 3s 146us/step - loss: 0.0012 - mean_absolute_percentage_error: 9.8306 - val_loss: 0.0017 - val_mean_absolute_percentage_error: 11.8122\n",
      "Epoch 70/100\n",
      "18502/18502 [==============================] - 3s 145us/step - loss: 0.0012 - mean_absolute_percentage_error: 9.7737 - val_loss: 0.0017 - val_mean_absolute_percentage_error: 12.0845\n",
      "Epoch 71/100\n",
      "18502/18502 [==============================] - 3s 146us/step - loss: 0.0012 - mean_absolute_percentage_error: 9.8016 - val_loss: 0.0017 - val_mean_absolute_percentage_error: 12.6592\n",
      "Epoch 72/100\n",
      "18502/18502 [==============================] - 3s 146us/step - loss: 0.0012 - mean_absolute_percentage_error: 9.8000 - val_loss: 0.0017 - val_mean_absolute_percentage_error: 12.2420\n",
      "Epoch 73/100\n",
      "18502/18502 [==============================] - 3s 148us/step - loss: 0.0012 - mean_absolute_percentage_error: 9.7219 - val_loss: 0.0017 - val_mean_absolute_percentage_error: 11.7947\n",
      "Epoch 74/100\n",
      "18502/18502 [==============================] - 3s 146us/step - loss: 0.0012 - mean_absolute_percentage_error: 9.7758 - val_loss: 0.0017 - val_mean_absolute_percentage_error: 11.6140\n",
      "Epoch 75/100\n",
      "18502/18502 [==============================] - 3s 146us/step - loss: 0.0011 - mean_absolute_percentage_error: 9.7149 - val_loss: 0.0017 - val_mean_absolute_percentage_error: 11.7500\n",
      "Epoch 76/100\n",
      "18502/18502 [==============================] - 3s 146us/step - loss: 0.0011 - mean_absolute_percentage_error: 9.7664 - val_loss: 0.0017 - val_mean_absolute_percentage_error: 11.7382\n",
      "Epoch 77/100\n",
      "18502/18502 [==============================] - 3s 144us/step - loss: 0.0011 - mean_absolute_percentage_error: 9.6665 - val_loss: 0.0017 - val_mean_absolute_percentage_error: 11.6258\n",
      "Epoch 78/100\n",
      "18502/18502 [==============================] - 3s 146us/step - loss: 0.0011 - mean_absolute_percentage_error: 9.7093 - val_loss: 0.0017 - val_mean_absolute_percentage_error: 12.4272\n",
      "Epoch 79/100\n",
      "18502/18502 [==============================] - 3s 146us/step - loss: 0.0011 - mean_absolute_percentage_error: 9.6949 - val_loss: 0.0017 - val_mean_absolute_percentage_error: 11.9678\n",
      "Epoch 80/100\n",
      "18502/18502 [==============================] - 3s 145us/step - loss: 0.0011 - mean_absolute_percentage_error: 9.6354 - val_loss: 0.0017 - val_mean_absolute_percentage_error: 12.1875\n",
      "Epoch 81/100\n",
      "18502/18502 [==============================] - 3s 145us/step - loss: 0.0011 - mean_absolute_percentage_error: 9.6455 - val_loss: 0.0017 - val_mean_absolute_percentage_error: 12.2604\n",
      "Epoch 82/100\n",
      "18502/18502 [==============================] - 3s 145us/step - loss: 0.0011 - mean_absolute_percentage_error: 9.6755 - val_loss: 0.0017 - val_mean_absolute_percentage_error: 12.3567\n",
      "Epoch 83/100\n",
      "18502/18502 [==============================] - 3s 146us/step - loss: 0.0011 - mean_absolute_percentage_error: 9.6715 - val_loss: 0.0018 - val_mean_absolute_percentage_error: 11.8823\n",
      "Epoch 84/100\n",
      "18502/18502 [==============================] - 3s 146us/step - loss: 0.0011 - mean_absolute_percentage_error: 9.5938 - val_loss: 0.0017 - val_mean_absolute_percentage_error: 11.8902\n",
      "Epoch 85/100\n",
      "18502/18502 [==============================] - 3s 146us/step - loss: 0.0011 - mean_absolute_percentage_error: 9.6002 - val_loss: 0.0018 - val_mean_absolute_percentage_error: 12.2176\n",
      "Epoch 86/100\n",
      "18502/18502 [==============================] - 3s 145us/step - loss: 0.0011 - mean_absolute_percentage_error: 9.6240 - val_loss: 0.0017 - val_mean_absolute_percentage_error: 12.0028\n",
      "Epoch 87/100\n",
      "18502/18502 [==============================] - 3s 145us/step - loss: 0.0011 - mean_absolute_percentage_error: 9.5601 - val_loss: 0.0018 - val_mean_absolute_percentage_error: 12.7703\n",
      "Epoch 88/100\n",
      "18502/18502 [==============================] - 3s 146us/step - loss: 0.0011 - mean_absolute_percentage_error: 9.6381 - val_loss: 0.0018 - val_mean_absolute_percentage_error: 12.0723\n",
      "Epoch 89/100\n",
      "18502/18502 [==============================] - 3s 146us/step - loss: 0.0011 - mean_absolute_percentage_error: 9.5549 - val_loss: 0.0018 - val_mean_absolute_percentage_error: 13.1929\n",
      "Epoch 90/100\n",
      "18502/18502 [==============================] - 3s 145us/step - loss: 0.0011 - mean_absolute_percentage_error: 9.5075 - val_loss: 0.0017 - val_mean_absolute_percentage_error: 11.7673\n",
      "Epoch 91/100\n",
      "18502/18502 [==============================] - 3s 147us/step - loss: 0.0011 - mean_absolute_percentage_error: 9.5882 - val_loss: 0.0017 - val_mean_absolute_percentage_error: 12.0271\n",
      "Epoch 92/100\n",
      "18502/18502 [==============================] - 3s 145us/step - loss: 0.0011 - mean_absolute_percentage_error: 9.4787 - val_loss: 0.0017 - val_mean_absolute_percentage_error: 11.8293\n",
      "Epoch 93/100\n",
      "18502/18502 [==============================] - 3s 146us/step - loss: 0.0011 - mean_absolute_percentage_error: 9.4629 - val_loss: 0.0017 - val_mean_absolute_percentage_error: 11.8585\n",
      "Epoch 94/100\n",
      "18502/18502 [==============================] - 3s 145us/step - loss: 0.0011 - mean_absolute_percentage_error: 9.5134 - val_loss: 0.0017 - val_mean_absolute_percentage_error: 11.6742\n",
      "Epoch 95/100\n",
      "18502/18502 [==============================] - 3s 146us/step - loss: 0.0011 - mean_absolute_percentage_error: 9.4145 - val_loss: 0.0017 - val_mean_absolute_percentage_error: 12.1415\n",
      "Epoch 96/100\n",
      "18502/18502 [==============================] - 3s 146us/step - loss: 0.0011 - mean_absolute_percentage_error: 9.4348 - val_loss: 0.0017 - val_mean_absolute_percentage_error: 12.3254\n",
      "Epoch 97/100\n",
      "18502/18502 [==============================] - 3s 146us/step - loss: 0.0011 - mean_absolute_percentage_error: 9.4421 - val_loss: 0.0018 - val_mean_absolute_percentage_error: 12.9598\n",
      "Epoch 98/100\n",
      "18502/18502 [==============================] - 3s 145us/step - loss: 0.0011 - mean_absolute_percentage_error: 9.4713 - val_loss: 0.0017 - val_mean_absolute_percentage_error: 12.6431\n",
      "Epoch 99/100\n",
      "18502/18502 [==============================] - 3s 144us/step - loss: 0.0011 - mean_absolute_percentage_error: 9.4483 - val_loss: 0.0017 - val_mean_absolute_percentage_error: 11.6851\n",
      "Epoch 100/100\n",
      "18502/18502 [==============================] - 3s 145us/step - loss: 0.0011 - mean_absolute_percentage_error: 9.3303 - val_loss: 0.0017 - val_mean_absolute_percentage_error: 12.4192\n"
     ]
    },
    {
     "data": {
      "text/plain": [
       "<tensorflow.python.keras.callbacks.History at 0x7f22083d0fd0>"
      ]
     },
     "execution_count": 23,
     "metadata": {},
     "output_type": "execute_result"
    }
   ],
   "source": [
    "model = k.models.Sequential()\n",
    "model.add(k.layers.Conv1D(100, 3, input_shape=(None, 45),))\n",
    "model.add(k.layers.LSTM(500,  return_sequences=True))\n",
    "model.add(k.layers.Dense(45))\n",
    "model.compile(optimizer='adam',\n",
    "              loss='mse', metrics=['mape'])\n",
    "save = k.callbacks.ModelCheckpoint('../model/modeloMultiTask', monitor='val_loss', verbose=0, save_best_only=True, save_weights_only=False, mode='auto', period=1)\n",
    "model.fit(x_treino, \n",
    "          y_treino, \n",
    "          validation_data=[x_validacao, y_validacao], \n",
    "          epochs=100, \n",
    "          batch_size=256,\n",
    "          callbacks=[save]\n",
    "         )\n"
   ]
  },
  {
   "cell_type": "code",
   "execution_count": 24,
   "metadata": {
    "slideshow": {
     "slide_type": "skip"
    }
   },
   "outputs": [],
   "source": [
    "predict = model.predict(x_teste)"
   ]
  },
  {
   "cell_type": "code",
   "execution_count": 25,
   "metadata": {
    "slideshow": {
     "slide_type": "skip"
    }
   },
   "outputs": [
    {
     "name": "stdout",
     "output_type": "stream",
     "text": [
      "(3701, 1, 45) (3701, 8, 45)\n"
     ]
    }
   ],
   "source": [
    "print(y_teste.shape, predict.shape)"
   ]
  },
  {
   "cell_type": "code",
   "execution_count": 26,
   "metadata": {
    "slideshow": {
     "slide_type": "skip"
    }
   },
   "outputs": [],
   "source": [
    "def mape(predict, target):\n",
    "    return np.mean(np.abs(target - predict)/target, axis=0)*100\n"
   ]
  },
  {
   "cell_type": "code",
   "execution_count": 33,
   "metadata": {
    "slideshow": {
     "slide_type": "skip"
    }
   },
   "outputs": [],
   "source": [
    "def graficoMape(mape):\n",
    "    import seaborn as sns\n",
    "    import matplotlib.pyplot as plt\n",
    "    plt.figure(figsize=[10,9])\n",
    "    sns.barplot(np.arange(45), mape)\n",
    "    plt.grid(b=True, axis='y')\n",
    "    plt.xlabel('Estações de medição')\n",
    "    plt.ylabel('Mape(%)')\n",
    "    plt.ylim([0, 50])\n",
    "    plt.show()"
   ]
  },
  {
   "cell_type": "markdown",
   "metadata": {
    "slideshow": {
     "slide_type": "slide"
    }
   },
   "source": [
    "# Resultados da ultima rede treinada"
   ]
  },
  {
   "cell_type": "code",
   "execution_count": 29,
   "metadata": {
    "slideshow": {
     "slide_type": "slide"
    }
   },
   "outputs": [
    {
     "data": {
      "image/png": "[encoded data removed]",
      "text/plain": [
       "<Figure size 720x648 with 1 Axes>"
      ]
     },
     "metadata": {
      "needs_background": "light"
     },
     "output_type": "display_data"
    }
   ],
   "source": [
    "graficoMape( mape(predict, y_teste)[0])"
   ]
  },
  {
   "cell_type": "markdown",
   "metadata": {
    "slideshow": {
     "slide_type": "slide"
    }
   },
   "source": [
    "# melhor modelo de acordo com a validacao"
   ]
  },
  {
   "cell_type": "code",
   "execution_count": 30,
   "metadata": {
    "slideshow": {
     "slide_type": "skip"
    }
   },
   "outputs": [],
   "source": [
    "model = k.models.load_model('../model/modeloMultiTask')"
   ]
  },
  {
   "cell_type": "code",
   "execution_count": 31,
   "metadata": {
    "slideshow": {
     "slide_type": "skip"
    }
   },
   "outputs": [],
   "source": [
    "predictMelhorModelo = model.predict(x_teste)"
   ]
  },
  {
   "cell_type": "code",
   "execution_count": 34,
   "metadata": {
    "slideshow": {
     "slide_type": "slide"
    }
   },
   "outputs": [
    {
     "data": {
      "image/png": "[encoded data removed]",
      "text/plain": [
       "<Figure size 720x648 with 1 Axes>"
      ]
     },
     "metadata": {
      "needs_background": "light"
     },
     "output_type": "display_data"
    }
   ],
   "source": [
    "graficoMape(mape(predictMelhorModelo, y_teste)[0])"
   ]
  },
  {
   "cell_type": "markdown",
   "metadata": {
    "slideshow": {
     "slide_type": "slide"
    }
   },
   "source": [
    "# Os resultado foram muito bons para uma primeira tentativa, talvez arrumando a forma de preencher dados faltantes, tenhamos uma melhora notável.\n",
    "\n",
    "slide do cprm sobre os desastres em estrada da cunha\n",
    "http://www.acquacon.com.br/xsrhn/palestras/14.00hrs_pap004316-%28mariacrystianne%29.pdf"
   ]
  },
  {
   "cell_type": "code",
   "execution_count": null,
   "metadata": {
    "slideshow": {
     "slide_type": "slide"
    }
   },
   "outputs": [],
   "source": [
    "model.summary()"
   ]
  },
  {
   "cell_type": "markdown",
   "metadata": {
    "slideshow": {
     "slide_type": "slide"
    }
   },
   "source": [
    "# perguntar sobre:\n",
    "+ matriculas em disciplinas EAD*** e pré-requisito\n",
    "+ colisao de disciplinas es, ihc e sistemasDistribuidos\n",
    "+ tarefa de tcc."
   ]
  },
  {
   "cell_type": "code",
   "execution_count": null,
   "metadata": {},
   "outputs": [],
   "source": []
  }
 ],
 "metadata": {
  "celltoolbar": "Slideshow",
  "kernelspec": {
   "display_name": "TensorFlow-GPU",
   "language": "python",
   "name": "tf-gpu"
  },
  "language_info": {
   "codemirror_mode": {
    "name": "ipython",
    "version": 3
   },
   "file_extension": ".py",
   "mimetype": "text/x-python",
   "name": "python",
   "nbconvert_exporter": "python",
   "pygments_lexer": "ipython3",
   "version": "3.6.8"
  }
 },
 "nbformat": 4,
 "nbformat_minor": 2
}
