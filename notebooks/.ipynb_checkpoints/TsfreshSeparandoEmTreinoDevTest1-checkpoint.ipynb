{
 "cells": [
  {
   "cell_type": "code",
   "execution_count": null,
   "metadata": {
    "slideshow": {
     "slide_type": "skip"
    }
   },
   "outputs": [],
   "source": [
    "import pandas as pd\n",
    "import numpy as np\n",
    "from  sklearn.preprocessing import MinMaxScaler\n",
    "from tsfresh import extract_features"
   ]
  },
  {
   "cell_type": "markdown",
   "metadata": {
    "slideshow": {
     "slide_type": "skip"
    }
   },
   "source": [
    "lembrar depois de manipular os outliers e "
   ]
  },
  {
   "cell_type": "code",
   "execution_count": null,
   "metadata": {
    "slideshow": {
     "slide_type": "slide"
    }
   },
   "outputs": [],
   "source": [
    "BaseDados = pd.read_csv('../instancia/BaseParaibaDoSulPreProcessadas-EstacoesUnidas.csv')\n",
    "BaseDados.head()"
   ]
  },
  {
   "cell_type": "code",
   "execution_count": null,
   "metadata": {},
   "outputs": [],
   "source": [
    "extracted_features = extract_features(BaseDados, column_id=\"Data\")"
   ]
  },
  {
   "cell_type": "code",
   "execution_count": null,
   "metadata": {},
   "outputs": [],
   "source": [
    "extracted_features.to_csv('../instancia/featuresExtraidas.csv')"
   ]
  },
  {
   "cell_type": "code",
   "execution_count": null,
   "metadata": {
    "slideshow": {
     "slide_type": "skip"
    }
   },
   "outputs": [],
   "source": [
    "def normalizaBase(dataset, tamanhoConjTeste):\n",
    "    normalizer = MinMaxScaler(feature_range=(0.1, 0.9))\n",
    "    normalizer.fit(dataset[:-tamanhoConjTeste])\n",
    "#     normalizer.transform(dataset).T\n",
    "    return normalizer.transform(dataset)"
   ]
  },
  {
   "cell_type": "code",
   "execution_count": null,
   "metadata": {
    "slideshow": {
     "slide_type": "skip"
    }
   },
   "outputs": [],
   "source": [
    "dataset = normalizaBase(BaseDados.to_numpy(), 3701)\n",
    "# BaseDados.to_numpy().shape\n",
    "# len(BaseDados.to_numpy().T[:, :-tamanhoConjTeste][0])"
   ]
  },
  {
   "cell_type": "code",
   "execution_count": null,
   "metadata": {
    "slideshow": {
     "slide_type": "skip"
    }
   },
   "outputs": [],
   "source": [
    "def janelamento(serie, ordem):\n",
    "    \"\"\"\n",
    "    Recebe uma serie e retorna um ndArray \n",
    "    com n linhas janeladas de ordem em ordem\n",
    "    \"\"\"    \n",
    "    tamanhoSerie, numeroEstacoes = serie.shape\n",
    "    print(serie.shape)\n",
    "    x = list()\n",
    "    y = list()\n",
    "    yAtual = ordem\n",
    "    while(yAtual < tamanhoSerie):\n",
    "        x.append(serie[(yAtual-ordem):yAtual])\n",
    "        y.append(serie[yAtual])\n",
    "        yAtual+=1\n",
    "        \n",
    "    x = np.array(x).reshape((-1, ordem, numeroEstacoes))\n",
    "    y = np.array(y).reshape((-1, 1, numeroEstacoes))\n",
    "    return x, y"
   ]
  },
  {
   "cell_type": "code",
   "execution_count": null,
   "metadata": {
    "slideshow": {
     "slide_type": "skip"
    }
   },
   "outputs": [],
   "source": [
    "X, Y = janelamento(dataset, 10)\n",
    "print(X.shape, Y.shape)"
   ]
  },
  {
   "cell_type": "markdown",
   "metadata": {
    "slideshow": {
     "slide_type": "slide"
    }
   },
   "source": [
    "## dividir em teste e Treino"
   ]
  },
  {
   "cell_type": "code",
   "execution_count": null,
   "metadata": {
    "slideshow": {
     "slide_type": "slide"
    }
   },
   "outputs": [],
   "source": [
    "TamanhoBase = len(X)\n",
    "tamanhoConjTreino = int(np.floor(len(X)*0.75))\n",
    "tamanhoConjValidacao = int(np.ceil(len(X)*0.10))\n",
    "tamanhoConjTeste = int(np.ceil(len(X)*0.15))\n",
    "print(tamanhoConjTreino, tamanhoConjValidacao, tamanhoConjTeste)\n",
    "TamanhoBase - (tamanhoConjTreino + tamanhoConjValidacao + tamanhoConjTeste)"
   ]
  },
  {
   "cell_type": "markdown",
   "metadata": {
    "slideshow": {
     "slide_type": "slide"
    }
   },
   "source": [
    "## Como tratar esses Nans?\n",
    "\n",
    "https://www.researchgate.net/publication/224654729_Pattern_Classification_with_Missing_Values_using_Multitask_Learning\n",
    "\n",
    "# por enquanto coloquei 0 neles"
   ]
  },
  {
   "cell_type": "code",
   "execution_count": null,
   "metadata": {
    "slideshow": {
     "slide_type": "skip"
    }
   },
   "outputs": [],
   "source": [
    "x_treino = X[:tamanhoConjTreino]\n",
    "y_treino = Y[:tamanhoConjTreino]\n",
    "x_validacao = X[tamanhoConjTreino: tamanhoConjTreino+ tamanhoConjValidacao]\n",
    "y_validacao = Y[tamanhoConjTreino: tamanhoConjTreino+ tamanhoConjValidacao]\n",
    "x_teste = X[-tamanhoConjTeste: ]\n",
    "y_teste = Y[-tamanhoConjTeste: ]"
   ]
  },
  {
   "cell_type": "code",
   "execution_count": null,
   "metadata": {
    "slideshow": {
     "slide_type": "skip"
    }
   },
   "outputs": [],
   "source": [
    "print(x_treino.shape, y_treino.shape)"
   ]
  },
  {
   "cell_type": "code",
   "execution_count": null,
   "metadata": {
    "slideshow": {
     "slide_type": "skip"
    }
   },
   "outputs": [],
   "source": [
    "import tensorflow.keras as k"
   ]
  },
  {
   "cell_type": "code",
   "execution_count": null,
   "metadata": {
    "scrolled": false,
    "slideshow": {
     "slide_type": "slide"
    }
   },
   "outputs": [],
   "source": [
    "model = k.models.Sequential()\n",
    "model.add(k.layers.Conv1D(10, 3, input_shape=(None, 45),))\n",
    "model.add(k.layers.LSTM(500,  return_sequences=True))\n",
    "model.add(k.layers.Dense(45))\n",
    "model.compile(optimizer='adam',\n",
    "              loss='mse', metrics=['mape'])\n",
    "save = k.callbacks.ModelCheckpoint('../model/modeloMultiTask', monitor='val_loss', verbose=0, save_best_only=True, save_weights_only=False, mode='auto', period=1)\n",
    "model.fit(x_treino, \n",
    "          y_treino, \n",
    "          validation_data=[x_validacao, y_validacao], \n",
    "          epochs=100, \n",
    "          batch_size=256,\n",
    "          callbacks=[save]\n",
    "         )\n"
   ]
  },
  {
   "cell_type": "code",
   "execution_count": null,
   "metadata": {
    "slideshow": {
     "slide_type": "skip"
    }
   },
   "outputs": [],
   "source": [
    "predict = model.predict(x_teste)"
   ]
  },
  {
   "cell_type": "code",
   "execution_count": null,
   "metadata": {
    "slideshow": {
     "slide_type": "skip"
    }
   },
   "outputs": [],
   "source": [
    "print(y_teste.shape, predict.shape)"
   ]
  },
  {
   "cell_type": "code",
   "execution_count": null,
   "metadata": {
    "slideshow": {
     "slide_type": "skip"
    }
   },
   "outputs": [],
   "source": [
    "def mape(predict, target):\n",
    "    return np.mean(np.abs(target - predict)/target, axis=0)*100\n"
   ]
  },
  {
   "cell_type": "code",
   "execution_count": null,
   "metadata": {
    "slideshow": {
     "slide_type": "skip"
    }
   },
   "outputs": [],
   "source": [
    "def graficoMape(mape):\n",
    "    import seaborn as sns\n",
    "    import matplotlib.pyplot as plt\n",
    "    plt.figure(figsize=[10,9])\n",
    "    sns.barplot(np.arange(45), mape)\n",
    "    plt.grid(b=True, axis='y')\n",
    "    plt.xlabel('Estações de medição')\n",
    "    plt.ylabel('Mape(%)')\n",
    "    plt.ylim([0, 50])\n",
    "    plt.show()"
   ]
  },
  {
   "cell_type": "markdown",
   "metadata": {
    "slideshow": {
     "slide_type": "slide"
    }
   },
   "source": [
    "# Resultados da ultima rede treinada"
   ]
  },
  {
   "cell_type": "code",
   "execution_count": null,
   "metadata": {
    "slideshow": {
     "slide_type": "slide"
    }
   },
   "outputs": [],
   "source": [
    "graficoMape( mape(predict, y_teste)[0])"
   ]
  },
  {
   "cell_type": "markdown",
   "metadata": {
    "slideshow": {
     "slide_type": "slide"
    }
   },
   "source": [
    "# melhor modelo de acordo com a validacao"
   ]
  },
  {
   "cell_type": "code",
   "execution_count": null,
   "metadata": {
    "slideshow": {
     "slide_type": "skip"
    }
   },
   "outputs": [],
   "source": [
    "model = k.models.load_model('../model/modeloMultiTask')"
   ]
  },
  {
   "cell_type": "code",
   "execution_count": null,
   "metadata": {
    "slideshow": {
     "slide_type": "skip"
    }
   },
   "outputs": [],
   "source": [
    "predictMelhorModelo = model.predict(x_teste)"
   ]
  },
  {
   "cell_type": "code",
   "execution_count": null,
   "metadata": {
    "slideshow": {
     "slide_type": "slide"
    }
   },
   "outputs": [],
   "source": [
    "graficoMape(mape(predictMelhorModelo, y_teste)[0])"
   ]
  },
  {
   "cell_type": "markdown",
   "metadata": {
    "slideshow": {
     "slide_type": "slide"
    }
   },
   "source": [
    "# Os resultado foram muito bons para uma primeira tentativa, talvez arrumando a forma de preencher dados faltantes, tenhamos uma melhora notável.\n",
    "\n",
    "slide do cprm sobre os desastres em estrada da cunha\n",
    "http://www.acquacon.com.br/xsrhn/palestras/14.00hrs_pap004316-%28mariacrystianne%29.pdf"
   ]
  },
  {
   "cell_type": "code",
   "execution_count": null,
   "metadata": {
    "slideshow": {
     "slide_type": "slide"
    }
   },
   "outputs": [],
   "source": [
    "model.summary()"
   ]
  },
  {
   "cell_type": "markdown",
   "metadata": {
    "slideshow": {
     "slide_type": "slide"
    }
   },
   "source": [
    "# perguntar sobre:\n",
    "+ matriculas em disciplinas EAD*** e pré-requisito\n",
    "+ colisao de disciplinas es, ihc e sistemasDistribuidos\n",
    "+ tarefa de tcc."
   ]
  },
  {
   "cell_type": "code",
   "execution_count": null,
   "metadata": {},
   "outputs": [],
   "source": []
  }
 ],
 "metadata": {
  "celltoolbar": "Slideshow",
  "kernelspec": {
   "display_name": "TensorFlow-GPU",
   "language": "python",
   "name": "tf-gpu"
  },
  "language_info": {
   "codemirror_mode": {
    "name": "ipython",
    "version": 3
   },
   "file_extension": ".py",
   "mimetype": "text/x-python",
   "name": "python",
   "nbconvert_exporter": "python",
   "pygments_lexer": "ipython3",
   "version": "3.6.8"
  }
 },
 "nbformat": 4,
 "nbformat_minor": 2
}
