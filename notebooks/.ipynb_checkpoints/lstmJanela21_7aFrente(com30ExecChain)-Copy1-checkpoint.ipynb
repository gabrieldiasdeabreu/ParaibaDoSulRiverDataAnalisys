{
 "cells": [
  {
   "cell_type": "code",
   "execution_count": 1,
   "metadata": {
    "slideshow": {
     "slide_type": "skip"
    }
   },
   "outputs": [],
   "source": [
    "from numpy.random import seed\n",
    "seed(1)\n",
    "\n",
    "import tensorflow as tf\n",
    "# tf.enable_eager_execution()\n",
    "from tensorflow import set_random_seed\n",
    "tf.set_random_seed(2)\n",
    "\n",
    "\n",
    "import time\n",
    "import os\n",
    "import pandas as pd\n",
    "import numpy as np\n",
    "from  sklearn.preprocessing import MinMaxScaler\n",
    "import matplotlib.pyplot as plt\n",
    "import tensorflow.keras as k\n",
    "from sklearn.model_selection import TimeSeriesSplit\n",
    "# from tsfresh import extract_features"
   ]
  },
  {
   "cell_type": "markdown",
   "metadata": {
    "slideshow": {
     "slide_type": "skip"
    }
   },
   "source": [
    "# aplicar lstm nas 45 estações do rio paraiba do sul\n",
    "+ 30 execucoes\n",
    "+ nested kfold\n",
    "+ compartilhar pesos\n",
    "+ 30% para teste \n",
    "+ 70% para validacao desses 60% para treino, 10% validacao"
   ]
  },
  {
   "cell_type": "code",
   "execution_count": 2,
   "metadata": {
    "slideshow": {
     "slide_type": "slide"
    }
   },
   "outputs": [],
   "source": [
    "BaseDados = pd.read_csv('../instancia/BaseParaibaDoSulPreProcessadas-EstacoesUnidas.csv',\n",
    "                        index_col='Data')\n",
    "# BaseDados.head(20)\n",
    "# BaseDados = BaseDados.iloc[:,:1]\n",
    "# BaseDados"
   ]
  },
  {
   "cell_type": "code",
   "execution_count": 3,
   "metadata": {},
   "outputs": [],
   "source": [
    "def normalizaBase(dataset, tamanhoConjTeste):\n",
    "    dataset = np.array(dataset).reshape(-1, 1)\n",
    "    normalizer = MinMaxScaler(feature_range=(0.1, 0.9))\n",
    "    normalizer.fit(dataset[:-tamanhoConjTeste])\n",
    "#     normalizer.transform(dataset).T\n",
    "    \n",
    "    return normalizer.transform(dataset)\n",
    "# BaseDados = normalizaBase(BaseDados, )"
   ]
  },
  {
   "cell_type": "code",
   "execution_count": 4,
   "metadata": {},
   "outputs": [],
   "source": [
    "def rolling_window(a, window, step_size):\n",
    "    \"\"\"\n",
    "    # Reshape a numpy array 'a' of shape (n, x) to form shape((n - window_size), window_size, x))\n",
    "    link https://gist.github.com/codehacken/708f19ae746784cef6e68b037af65788\n",
    "    \"\"\"\n",
    "    a = np.array(a)\n",
    "    shape = a.shape[:-1] + (a.shape[-1] - window + 1 - step_size, window)\n",
    "    strides = a.strides + (a.strides[-1] * step_size,)\n",
    "    x = np.lib.stride_tricks.as_strided(a, shape=shape, strides=strides).reshape((-1, window,1 ))\n",
    "    y = np.array(a[window+6:]) # uma semana na frente\n",
    "    return x[:len(y)], y # descarta as últimas janelas"
   ]
  },
  {
   "cell_type": "code",
   "execution_count": 5,
   "metadata": {},
   "outputs": [],
   "source": [
    "def modeloLstmParaSerieTemporalComNestedCrossValidation(tamanhoJanela, numeroNeuroniosLstm):\n",
    "        # entrada da rede\n",
    "\n",
    "    X = k.Input(shape=(tamanhoJanela, 1))\n",
    "    \n",
    "    a, _, c = k.layers.CuDNNLSTM(numeroNeuroniosLstm,\n",
    "                                return_state = True)(X)\n",
    "    \n",
    "    out = k.layers.Dense(1, activation='linear')(a)\n",
    "\n",
    "    model = k.models.Model(inputs=X, outputs=out)\n",
    "    \n",
    "    return model"
   ]
  },
  {
   "cell_type": "code",
   "execution_count": 6,
   "metadata": {},
   "outputs": [],
   "source": [
    "def treinaModelo(x_treino, y_treino, x_val, y_val, ordem, numNeuroniosLstm, execucao, fold, caminhoSalvar):\n",
    "    k.backend.clear_session()\n",
    "    model = modeloLstmParaSerieTemporalComNestedCrossValidation(ordem, numNeuroniosLstm)\n",
    "#     model.summary()\n",
    "    model.compile(loss='mse', optimizer='adam', metrics=['mape'])\n",
    "    m = x_treino.shape[0]\n",
    "#     a0 = np.zeros((m, numNeuroniosLstm))\n",
    "#     c0 = np.zeros((m, numNeuroniosLstm))\n",
    "    saveModel = k.callbacks.ModelCheckpoint(\n",
    "        caminhoSalvar+'/'+'ModeloLstm_execucao='\n",
    "        +str(execucao)+'Fold='+str(fold),\n",
    "        monitor='val_loss',\n",
    "        verbose=0,\n",
    "        save_best_only=True,\n",
    "        save_weights_only=False,\n",
    "        mode='auto',\n",
    "        period=1,\n",
    "    )\n",
    "    hist = model.fit(x_treino, y_treino,\n",
    "              validation_data=(x_val, y_val),\n",
    "              epochs = 200,\n",
    "              batch_size = 256,\n",
    "              callbacks=[saveModel],\n",
    "              verbose=0\n",
    "             )\n",
    "#     print(hist.history)\n",
    "    return np.min(hist.history['val_mean_absolute_percentage_error'])"
   ]
  },
  {
   "cell_type": "code",
   "execution_count": 7,
   "metadata": {},
   "outputs": [],
   "source": [
    "def fazNSplits(serieNormalizada, tamanhoJanela, caminhoSalvar, execucao):\n",
    "\n",
    "    X, Y = rolling_window(serieNormalizada, tamanhoJanela, 1)\n",
    "    tscv = TimeSeriesSplit(n_splits=10)\n",
    "    \n",
    "    fold = 1\n",
    "    for train_index, test_index in tscv.split(X):\n",
    "        start_time = time.time()\n",
    "        \n",
    "        X_train, X_val = X[train_index], X[test_index]\n",
    "        Y_train, Y_val = Y[train_index], Y[test_index]\n",
    "        \n",
    "        # treina modelo arrumar depois\n",
    "        minVal = treinaModelo(X_train, Y_train,\n",
    "                     X_val, Y_val,\n",
    "                     tamanhoJanela, \n",
    "                     200, execucao, fold, caminhoSalvar)\n",
    "        \n",
    "        with open('../ExperimentoModelagemHidricaLstm/logExperimento.txt', 'a') as file:\n",
    "            file.write('mapeMinVal: '+str(minVal)+' execucao: ' +str(execucao) + ' fold: ' + str(fold) + ' tempo de execucao: '+ str(time.time() - start_time)+ 's ' + caminhoSalvar + '\\n')\n",
    "        fold+=1\n",
    "    "
   ]
  },
  {
   "cell_type": "code",
   "execution_count": 8,
   "metadata": {},
   "outputs": [],
   "source": [
    "def divideTodasEstacoesEmTreinoDevTest(BaseDados, ordem, execucao):\n",
    "    '''\n",
    "    divide a base em conjuntos de treino, teste e validacao, x e y por estacao\n",
    "    e retorna um Dicionario com cadaa\n",
    "    '''\n",
    "    estacoesDivididasEJaneladas = dict()\n",
    "    \n",
    "    for nomeEstacao in BaseDados:\n",
    "        # carrega base e retirar os 0.0 da base\n",
    "        serieEstacao = BaseDados[nomeEstacao]\n",
    "        serieEstacao = serieEstacao[serieEstacao != 0.0]\n",
    "\n",
    "        # calcula o tamanho dos conjuntos com 15%, 10% e 75%\n",
    "        tamanhoBase = len(serieEstacao)\n",
    "        tamanhoConjTeste = int(np.ceil(len(serieEstacao)*0.30))\n",
    "#         tamanhoConjValidacao = int(np.ceil(len(serieEstacao)*0.10))\n",
    "#         tamanhoConjTreino = tamanhoBase - (tamanhoConjValidacao + tamanhoConjTeste)\n",
    "#         tamanhoConjTeste = int(np.ceil(len(serieEstacao)*0.30))\n",
    "#         print(tamanhoConjTreino, tamanhoConjValidacao, tamanhoConjTeste)\n",
    "        \n",
    "        # normaliza a base de dados \n",
    "        serieEstacao = normalizaBase(serieEstacao, tamanhoConjTeste)\n",
    "        \n",
    "        # transforma novamente a serie em flatten\n",
    "        serieEstacaoTreinoEVal = serieEstacao.flatten()[:-tamanhoConjTeste]\n",
    "\n",
    "        serieEstacaoTeste = serieEstacao.flatten()[-tamanhoConjTeste:]\n",
    "        \n",
    "        caminhoPastaExperimento = '../ExperimentoModelagemHidricaLstm/' + nomeEstacao.split('.')[0]\n",
    "        \n",
    "        if not os.path.exists(caminhoPastaExperimento):\n",
    "            os.mkdir( caminhoPastaExperimento )\n",
    "        \n",
    "        # retorna as janelas com ordem definida\n",
    "        fazNSplits(serieEstacaoTreinoEVal, \n",
    "                   ordem, caminhoPastaExperimento, execucao)\n",
    "        \n",
    "        \n",
    "        "
   ]
  },
  {
   "cell_type": "code",
   "execution_count": null,
   "metadata": {},
   "outputs": [],
   "source": [
    "for execucao in range(30):\n",
    "    seed(execucao)\n",
    "    set_random_seed(execucao)\n",
    "    divideTodasEstacoesEmTreinoDevTest(BaseDados, 21, execucao)"
   ]
  },
  {
   "cell_type": "code",
   "execution_count": null,
   "metadata": {},
   "outputs": [],
   "source": [
    "def graficoMape(mapesDict):\n",
    "    import seaborn as sns\n",
    "    import matplotlib.pyplot as plt\n",
    "    plt.figure(figsize=[16,9])\n",
    "    nomeEstacoes = list()\n",
    "    mapes= list()\n",
    "    [ (nomeEstacoes.append(nomeEstacao), mapes.append(valorMape)) for nomeEstacao, valorMape in mapesDict.items()]\n",
    "    \n",
    "    figure = sns.barplot(np.arange(len(mapes)), mapes, )\n",
    "    plt.grid(b=True, axis='y')\n",
    "    plt.xlabel('Estações de medição')\n",
    "    plt.ylabel('Mape(%)')\n",
    "    plt.ylim([0, 30])\n",
    "    plt.xticks(np.arange(len(mapes)), nomeEstacoes, rotation= 30)\n",
    "#     plt.legend()\n",
    "    return figure\n",
    "#     plt.show()"
   ]
  },
  {
   "cell_type": "code",
   "execution_count": null,
   "metadata": {},
   "outputs": [],
   "source": [
    "def mape(predict, target):\n",
    "    return np.mean(np.abs(target - predict)/target)*100"
   ]
  },
  {
   "cell_type": "code",
   "execution_count": null,
   "metadata": {
    "slideshow": {
     "slide_type": "skip"
    }
   },
   "outputs": [],
   "source": [
    "def somenteExecutaModelosNasEstacoes(BaseDados, ordem):\n",
    "    # divide os conjuntos\n",
    "    estacoesEConjuntos = divideTodasEstacoesEmTreinoDevTest(BaseDados, ordem)\n",
    "    \n",
    "    # treina modelo em todas as estacoes\n",
    "#     for nomeEstacao in estacoesEConjuntos.keys():\n",
    "#         print(nomeEstacao)\n",
    "#         model, hist = treinaModeloLstm(\n",
    "#             estacoesEConjuntos[nomeEstacao]['treino_x'], \n",
    "#             estacoesEConjuntos[nomeEstacao]['treino_y'],\n",
    "#             estacoesEConjuntos[nomeEstacao]['validacao_x'],\n",
    "#             estacoesEConjuntos[nomeEstacao]['validacao_y'],\n",
    "#             nomeEstacao, 10\n",
    "#         )\n",
    "        \n",
    "    mapes = dict()\n",
    "    for nomeEstacao in estacoesEConjuntos.keys():\n",
    "        print(nomeEstacao)\n",
    "        model = k.models.load_model('../model/modeloLstmJanela14_umaSmnAFrenteEstacao_'+nomeEstacao)\n",
    "        predict = model.predict(np.array(estacoesEConjuntos[nomeEstacao]['teste_x']))\n",
    "        mapes[nomeEstacao] = mape(predict.flatten(), estacoesEConjuntos[nomeEstacao]['teste_y'].flatten())\n",
    "    \n",
    "    print(mapes)\n",
    "    graficoMape(mapes)\n",
    "    plt.savefig('../graficos/resultadoMapesTodasSeriesIndependentes.pdf')\n",
    "    plt.show()\n",
    "    return mapes"
   ]
  },
  {
   "cell_type": "code",
   "execution_count": null,
   "metadata": {},
   "outputs": [],
   "source": [
    "# executaModelosNasEstacoes(BaseDados, 21)"
   ]
  },
  {
   "cell_type": "code",
   "execution_count": null,
   "metadata": {},
   "outputs": [],
   "source": [
    "# graficoMape(dictMapes)\n",
    "# plt.savefig('../graficos/resultadoMapesTodasSeriesIndependentes.pdf')"
   ]
  },
  {
   "cell_type": "code",
   "execution_count": null,
   "metadata": {},
   "outputs": [],
   "source": [
    "\n",
    "serieEstacao = BaseDados.iloc[:, 0]\n",
    "\n",
    "tamConjTeste = int(np.ceil(len(serieEstacao)*0.30))\n",
    "\n",
    "serieEstacao = normalizaBase(serieEstacao, tamConjTeste)\n",
    "\n",
    "serieEstacaoTeste = serieEstacao.flatten()[-tamConjTeste:]\n",
    "\n",
    "X, Y = rolling_window(serieEstacaoTeste, 21, 1)\n",
    "\n",
    "model = k.models.load_model('../ExperimentoModelagemHidricaLstm/2142004_58910000/ModeloLstm_execucao=0Fold=2')\n",
    "print(( Y.flatten() - model.predict(X).flatten())/Y.flatten() )\n",
    "# mape(model.predict(X).flatten(), Y.flatten())"
   ]
  },
  {
   "cell_type": "code",
   "execution_count": null,
   "metadata": {},
   "outputs": [],
   "source": []
  }
 ],
 "metadata": {
  "celltoolbar": "Slideshow",
  "kernelspec": {
   "display_name": "TensorFlow-GPU",
   "language": "python",
   "name": "tf-gpu"
  },
  "language_info": {
   "codemirror_mode": {
    "name": "ipython",
    "version": 3
   },
   "file_extension": ".py",
   "mimetype": "text/x-python",
   "name": "python",
   "nbconvert_exporter": "python",
   "pygments_lexer": "ipython3",
   "version": "3.6.8"
  }
 },
 "nbformat": 4,
 "nbformat_minor": 2
}
